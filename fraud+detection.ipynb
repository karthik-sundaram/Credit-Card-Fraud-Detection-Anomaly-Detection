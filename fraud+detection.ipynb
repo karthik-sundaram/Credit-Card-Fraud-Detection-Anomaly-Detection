{
 "cells": [
  {
   "cell_type": "code",
   "execution_count": null,
   "metadata": {
    "collapsed": true
   },
   "outputs": [],
   "source": [
    "PROBLEM STATEMENT:\n",
    "The datasets contains transactions made by credit cards in September 2013 by european cardholders. \n",
    "This dataset presents transactions that occurred in two days, where we have 492 frauds out of 284,807 transactions.\n",
    "The dataset is highly unbalanced, the positive class (frauds) account for 0.172% of all transactions.\n",
    "\n",
    "It contains only numerical input variables which are the result of a PCA transformation. Unfortunately,\n",
    "due to confidentiality issues, we cannot provide the original features and more background information about the data.\n",
    "Features V1, V2, ... V28 are the principal components obtained with PCA, the only features which have not been transformed\n",
    "with PCA are 'Time' and 'Amount'. Feature 'Time' contains the seconds elapsed between each transaction and the first\n",
    "transaction in the dataset. The feature 'Amount' is the transaction Amount, this feature can be used for example-dependant \n",
    "cost-senstive learning. Feature 'Class' is the response variable and it takes value 1 in case of fraud and 0 otherwise."
   ]
  },
  {
   "cell_type": "code",
   "execution_count": null,
   "metadata": {
    "collapsed": true
   },
   "outputs": [],
   "source": [
    "kaggle dataset : https://www.kaggle.com/mlg-ulb/creditcardfraud/data"
   ]
  },
  {
   "cell_type": "code",
   "execution_count": 1,
   "metadata": {},
   "outputs": [
    {
     "name": "stderr",
     "output_type": "stream",
     "text": [
      "C:\\Users\\Karthik\\Anaconda3\\lib\\site-packages\\sklearn\\cross_validation.py:41: DeprecationWarning: This module was deprecated in version 0.18 in favor of the model_selection module into which all the refactored classes and functions are moved. Also note that the interface of the new CV iterators are different from that of this module. This module will be removed in 0.20.\n",
      "  \"This module will be removed in 0.20.\", DeprecationWarning)\n"
     ]
    }
   ],
   "source": [
    "import matplotlib.pyplot as plt\n",
    "import numpy as np\n",
    "import pandas as pd\n",
    "%matplotlib inline\n",
    "\n",
    "from numpy import genfromtxt\n",
    "from scipy.stats import multivariate_normal\n",
    "from sklearn.linear_model import LogisticRegression\n",
    "from sklearn.cross_validation import KFold, cross_val_score\n",
    "from sklearn.metrics import accuracy_score, f1_score, precision_score, recall_score,confusion_matrix,precision_recall_curve,auc,roc_auc_score,roc_curve,classification_report \n",
    "from sklearn import svm\n",
    "from sklearn.model_selection import train_test_split  "
   ]
  },
  {
   "cell_type": "code",
   "execution_count": 2,
   "metadata": {
    "collapsed": true
   },
   "outputs": [],
   "source": [
    "df1=pd.read_csv('C:/Users/Karthik/Desktop/KDrive/ALL projects/Anomaly Detecn-Bank Fraud/creditcard.csv')"
   ]
  },
  {
   "cell_type": "code",
   "execution_count": 3,
   "metadata": {},
   "outputs": [
    {
     "data": {
      "text/html": [
       "<div>\n",
       "<style>\n",
       "    .dataframe thead tr:only-child th {\n",
       "        text-align: right;\n",
       "    }\n",
       "\n",
       "    .dataframe thead th {\n",
       "        text-align: left;\n",
       "    }\n",
       "\n",
       "    .dataframe tbody tr th {\n",
       "        vertical-align: top;\n",
       "    }\n",
       "</style>\n",
       "<table border=\"1\" class=\"dataframe\">\n",
       "  <thead>\n",
       "    <tr style=\"text-align: right;\">\n",
       "      <th></th>\n",
       "      <th>Time</th>\n",
       "      <th>V1</th>\n",
       "      <th>V2</th>\n",
       "      <th>V3</th>\n",
       "      <th>V4</th>\n",
       "      <th>V5</th>\n",
       "      <th>V6</th>\n",
       "      <th>V7</th>\n",
       "      <th>V8</th>\n",
       "      <th>V9</th>\n",
       "      <th>...</th>\n",
       "      <th>V21</th>\n",
       "      <th>V22</th>\n",
       "      <th>V23</th>\n",
       "      <th>V24</th>\n",
       "      <th>V25</th>\n",
       "      <th>V26</th>\n",
       "      <th>V27</th>\n",
       "      <th>V28</th>\n",
       "      <th>Amount</th>\n",
       "      <th>Class</th>\n",
       "    </tr>\n",
       "  </thead>\n",
       "  <tbody>\n",
       "    <tr>\n",
       "      <th>count</th>\n",
       "      <td>284807.000000</td>\n",
       "      <td>2.848070e+05</td>\n",
       "      <td>2.848070e+05</td>\n",
       "      <td>2.848070e+05</td>\n",
       "      <td>2.848070e+05</td>\n",
       "      <td>2.848070e+05</td>\n",
       "      <td>2.848070e+05</td>\n",
       "      <td>2.848070e+05</td>\n",
       "      <td>2.848070e+05</td>\n",
       "      <td>2.848070e+05</td>\n",
       "      <td>...</td>\n",
       "      <td>2.848070e+05</td>\n",
       "      <td>2.848070e+05</td>\n",
       "      <td>2.848070e+05</td>\n",
       "      <td>2.848070e+05</td>\n",
       "      <td>2.848070e+05</td>\n",
       "      <td>2.848070e+05</td>\n",
       "      <td>2.848070e+05</td>\n",
       "      <td>2.848070e+05</td>\n",
       "      <td>284807.000000</td>\n",
       "      <td>284807.000000</td>\n",
       "    </tr>\n",
       "    <tr>\n",
       "      <th>mean</th>\n",
       "      <td>94813.859575</td>\n",
       "      <td>3.919560e-15</td>\n",
       "      <td>5.688174e-16</td>\n",
       "      <td>-8.769071e-15</td>\n",
       "      <td>2.782312e-15</td>\n",
       "      <td>-1.552563e-15</td>\n",
       "      <td>2.010663e-15</td>\n",
       "      <td>-1.694249e-15</td>\n",
       "      <td>-1.927028e-16</td>\n",
       "      <td>-3.137024e-15</td>\n",
       "      <td>...</td>\n",
       "      <td>1.537294e-16</td>\n",
       "      <td>7.959909e-16</td>\n",
       "      <td>5.367590e-16</td>\n",
       "      <td>4.458112e-15</td>\n",
       "      <td>1.453003e-15</td>\n",
       "      <td>1.699104e-15</td>\n",
       "      <td>-3.660161e-16</td>\n",
       "      <td>-1.206049e-16</td>\n",
       "      <td>88.349619</td>\n",
       "      <td>0.001727</td>\n",
       "    </tr>\n",
       "    <tr>\n",
       "      <th>std</th>\n",
       "      <td>47488.145955</td>\n",
       "      <td>1.958696e+00</td>\n",
       "      <td>1.651309e+00</td>\n",
       "      <td>1.516255e+00</td>\n",
       "      <td>1.415869e+00</td>\n",
       "      <td>1.380247e+00</td>\n",
       "      <td>1.332271e+00</td>\n",
       "      <td>1.237094e+00</td>\n",
       "      <td>1.194353e+00</td>\n",
       "      <td>1.098632e+00</td>\n",
       "      <td>...</td>\n",
       "      <td>7.345240e-01</td>\n",
       "      <td>7.257016e-01</td>\n",
       "      <td>6.244603e-01</td>\n",
       "      <td>6.056471e-01</td>\n",
       "      <td>5.212781e-01</td>\n",
       "      <td>4.822270e-01</td>\n",
       "      <td>4.036325e-01</td>\n",
       "      <td>3.300833e-01</td>\n",
       "      <td>250.120109</td>\n",
       "      <td>0.041527</td>\n",
       "    </tr>\n",
       "    <tr>\n",
       "      <th>min</th>\n",
       "      <td>0.000000</td>\n",
       "      <td>-5.640751e+01</td>\n",
       "      <td>-7.271573e+01</td>\n",
       "      <td>-4.832559e+01</td>\n",
       "      <td>-5.683171e+00</td>\n",
       "      <td>-1.137433e+02</td>\n",
       "      <td>-2.616051e+01</td>\n",
       "      <td>-4.355724e+01</td>\n",
       "      <td>-7.321672e+01</td>\n",
       "      <td>-1.343407e+01</td>\n",
       "      <td>...</td>\n",
       "      <td>-3.483038e+01</td>\n",
       "      <td>-1.093314e+01</td>\n",
       "      <td>-4.480774e+01</td>\n",
       "      <td>-2.836627e+00</td>\n",
       "      <td>-1.029540e+01</td>\n",
       "      <td>-2.604551e+00</td>\n",
       "      <td>-2.256568e+01</td>\n",
       "      <td>-1.543008e+01</td>\n",
       "      <td>0.000000</td>\n",
       "      <td>0.000000</td>\n",
       "    </tr>\n",
       "    <tr>\n",
       "      <th>25%</th>\n",
       "      <td>54201.500000</td>\n",
       "      <td>-9.203734e-01</td>\n",
       "      <td>-5.985499e-01</td>\n",
       "      <td>-8.903648e-01</td>\n",
       "      <td>-8.486401e-01</td>\n",
       "      <td>-6.915971e-01</td>\n",
       "      <td>-7.682956e-01</td>\n",
       "      <td>-5.540759e-01</td>\n",
       "      <td>-2.086297e-01</td>\n",
       "      <td>-6.430976e-01</td>\n",
       "      <td>...</td>\n",
       "      <td>-2.283949e-01</td>\n",
       "      <td>-5.423504e-01</td>\n",
       "      <td>-1.618463e-01</td>\n",
       "      <td>-3.545861e-01</td>\n",
       "      <td>-3.171451e-01</td>\n",
       "      <td>-3.269839e-01</td>\n",
       "      <td>-7.083953e-02</td>\n",
       "      <td>-5.295979e-02</td>\n",
       "      <td>5.600000</td>\n",
       "      <td>0.000000</td>\n",
       "    </tr>\n",
       "    <tr>\n",
       "      <th>50%</th>\n",
       "      <td>84692.000000</td>\n",
       "      <td>1.810880e-02</td>\n",
       "      <td>6.548556e-02</td>\n",
       "      <td>1.798463e-01</td>\n",
       "      <td>-1.984653e-02</td>\n",
       "      <td>-5.433583e-02</td>\n",
       "      <td>-2.741871e-01</td>\n",
       "      <td>4.010308e-02</td>\n",
       "      <td>2.235804e-02</td>\n",
       "      <td>-5.142873e-02</td>\n",
       "      <td>...</td>\n",
       "      <td>-2.945017e-02</td>\n",
       "      <td>6.781943e-03</td>\n",
       "      <td>-1.119293e-02</td>\n",
       "      <td>4.097606e-02</td>\n",
       "      <td>1.659350e-02</td>\n",
       "      <td>-5.213911e-02</td>\n",
       "      <td>1.342146e-03</td>\n",
       "      <td>1.124383e-02</td>\n",
       "      <td>22.000000</td>\n",
       "      <td>0.000000</td>\n",
       "    </tr>\n",
       "    <tr>\n",
       "      <th>75%</th>\n",
       "      <td>139320.500000</td>\n",
       "      <td>1.315642e+00</td>\n",
       "      <td>8.037239e-01</td>\n",
       "      <td>1.027196e+00</td>\n",
       "      <td>7.433413e-01</td>\n",
       "      <td>6.119264e-01</td>\n",
       "      <td>3.985649e-01</td>\n",
       "      <td>5.704361e-01</td>\n",
       "      <td>3.273459e-01</td>\n",
       "      <td>5.971390e-01</td>\n",
       "      <td>...</td>\n",
       "      <td>1.863772e-01</td>\n",
       "      <td>5.285536e-01</td>\n",
       "      <td>1.476421e-01</td>\n",
       "      <td>4.395266e-01</td>\n",
       "      <td>3.507156e-01</td>\n",
       "      <td>2.409522e-01</td>\n",
       "      <td>9.104512e-02</td>\n",
       "      <td>7.827995e-02</td>\n",
       "      <td>77.165000</td>\n",
       "      <td>0.000000</td>\n",
       "    </tr>\n",
       "    <tr>\n",
       "      <th>max</th>\n",
       "      <td>172792.000000</td>\n",
       "      <td>2.454930e+00</td>\n",
       "      <td>2.205773e+01</td>\n",
       "      <td>9.382558e+00</td>\n",
       "      <td>1.687534e+01</td>\n",
       "      <td>3.480167e+01</td>\n",
       "      <td>7.330163e+01</td>\n",
       "      <td>1.205895e+02</td>\n",
       "      <td>2.000721e+01</td>\n",
       "      <td>1.559499e+01</td>\n",
       "      <td>...</td>\n",
       "      <td>2.720284e+01</td>\n",
       "      <td>1.050309e+01</td>\n",
       "      <td>2.252841e+01</td>\n",
       "      <td>4.584549e+00</td>\n",
       "      <td>7.519589e+00</td>\n",
       "      <td>3.517346e+00</td>\n",
       "      <td>3.161220e+01</td>\n",
       "      <td>3.384781e+01</td>\n",
       "      <td>25691.160000</td>\n",
       "      <td>1.000000</td>\n",
       "    </tr>\n",
       "  </tbody>\n",
       "</table>\n",
       "<p>8 rows × 31 columns</p>\n",
       "</div>"
      ],
      "text/plain": [
       "                Time            V1            V2            V3            V4  \\\n",
       "count  284807.000000  2.848070e+05  2.848070e+05  2.848070e+05  2.848070e+05   \n",
       "mean    94813.859575  3.919560e-15  5.688174e-16 -8.769071e-15  2.782312e-15   \n",
       "std     47488.145955  1.958696e+00  1.651309e+00  1.516255e+00  1.415869e+00   \n",
       "min         0.000000 -5.640751e+01 -7.271573e+01 -4.832559e+01 -5.683171e+00   \n",
       "25%     54201.500000 -9.203734e-01 -5.985499e-01 -8.903648e-01 -8.486401e-01   \n",
       "50%     84692.000000  1.810880e-02  6.548556e-02  1.798463e-01 -1.984653e-02   \n",
       "75%    139320.500000  1.315642e+00  8.037239e-01  1.027196e+00  7.433413e-01   \n",
       "max    172792.000000  2.454930e+00  2.205773e+01  9.382558e+00  1.687534e+01   \n",
       "\n",
       "                 V5            V6            V7            V8            V9  \\\n",
       "count  2.848070e+05  2.848070e+05  2.848070e+05  2.848070e+05  2.848070e+05   \n",
       "mean  -1.552563e-15  2.010663e-15 -1.694249e-15 -1.927028e-16 -3.137024e-15   \n",
       "std    1.380247e+00  1.332271e+00  1.237094e+00  1.194353e+00  1.098632e+00   \n",
       "min   -1.137433e+02 -2.616051e+01 -4.355724e+01 -7.321672e+01 -1.343407e+01   \n",
       "25%   -6.915971e-01 -7.682956e-01 -5.540759e-01 -2.086297e-01 -6.430976e-01   \n",
       "50%   -5.433583e-02 -2.741871e-01  4.010308e-02  2.235804e-02 -5.142873e-02   \n",
       "75%    6.119264e-01  3.985649e-01  5.704361e-01  3.273459e-01  5.971390e-01   \n",
       "max    3.480167e+01  7.330163e+01  1.205895e+02  2.000721e+01  1.559499e+01   \n",
       "\n",
       "           ...                 V21           V22           V23           V24  \\\n",
       "count      ...        2.848070e+05  2.848070e+05  2.848070e+05  2.848070e+05   \n",
       "mean       ...        1.537294e-16  7.959909e-16  5.367590e-16  4.458112e-15   \n",
       "std        ...        7.345240e-01  7.257016e-01  6.244603e-01  6.056471e-01   \n",
       "min        ...       -3.483038e+01 -1.093314e+01 -4.480774e+01 -2.836627e+00   \n",
       "25%        ...       -2.283949e-01 -5.423504e-01 -1.618463e-01 -3.545861e-01   \n",
       "50%        ...       -2.945017e-02  6.781943e-03 -1.119293e-02  4.097606e-02   \n",
       "75%        ...        1.863772e-01  5.285536e-01  1.476421e-01  4.395266e-01   \n",
       "max        ...        2.720284e+01  1.050309e+01  2.252841e+01  4.584549e+00   \n",
       "\n",
       "                V25           V26           V27           V28         Amount  \\\n",
       "count  2.848070e+05  2.848070e+05  2.848070e+05  2.848070e+05  284807.000000   \n",
       "mean   1.453003e-15  1.699104e-15 -3.660161e-16 -1.206049e-16      88.349619   \n",
       "std    5.212781e-01  4.822270e-01  4.036325e-01  3.300833e-01     250.120109   \n",
       "min   -1.029540e+01 -2.604551e+00 -2.256568e+01 -1.543008e+01       0.000000   \n",
       "25%   -3.171451e-01 -3.269839e-01 -7.083953e-02 -5.295979e-02       5.600000   \n",
       "50%    1.659350e-02 -5.213911e-02  1.342146e-03  1.124383e-02      22.000000   \n",
       "75%    3.507156e-01  2.409522e-01  9.104512e-02  7.827995e-02      77.165000   \n",
       "max    7.519589e+00  3.517346e+00  3.161220e+01  3.384781e+01   25691.160000   \n",
       "\n",
       "               Class  \n",
       "count  284807.000000  \n",
       "mean        0.001727  \n",
       "std         0.041527  \n",
       "min         0.000000  \n",
       "25%         0.000000  \n",
       "50%         0.000000  \n",
       "75%         0.000000  \n",
       "max         1.000000  \n",
       "\n",
       "[8 rows x 31 columns]"
      ]
     },
     "execution_count": 3,
     "metadata": {},
     "output_type": "execute_result"
    }
   ],
   "source": [
    "df1.describe()"
   ]
  },
  {
   "cell_type": "code",
   "execution_count": 4,
   "metadata": {},
   "outputs": [
    {
     "data": {
      "text/plain": [
       "284315"
      ]
     },
     "execution_count": 4,
     "metadata": {},
     "output_type": "execute_result"
    }
   ],
   "source": [
    "df1[df1.Class==0].count()[1]"
   ]
  },
  {
   "cell_type": "code",
   "execution_count": 5,
   "metadata": {},
   "outputs": [
    {
     "data": {
      "text/plain": [
       "492"
      ]
     },
     "execution_count": 5,
     "metadata": {},
     "output_type": "execute_result"
    }
   ],
   "source": [
    "df1[df1.Class==1].count()[1]"
   ]
  },
  {
   "cell_type": "code",
   "execution_count": 6,
   "metadata": {},
   "outputs": [
    {
     "data": {
      "text/plain": [
       "0.001727485630620034"
      ]
     },
     "execution_count": 6,
     "metadata": {},
     "output_type": "execute_result"
    }
   ],
   "source": [
    "df1[df1.Class==1].count()[1]/df1.count()[1]"
   ]
  },
  {
   "cell_type": "code",
   "execution_count": null,
   "metadata": {
    "collapsed": true
   },
   "outputs": [],
   "source": []
  },
  {
   "cell_type": "code",
   "execution_count": 7,
   "metadata": {},
   "outputs": [
    {
     "data": {
      "text/plain": [
       "<matplotlib.axes._subplots.AxesSubplot at 0x28653cee4e0>"
      ]
     },
     "execution_count": 7,
     "metadata": {},
     "output_type": "execute_result"
    },
    {
     "data": {
      "image/png": "[encoded data removed]",
      "text/plain": [
       "<matplotlib.figure.Figure at 0x28653ce80f0>"
      ]
     },
     "metadata": {},
     "output_type": "display_data"
    }
   ],
   "source": [
    "df1.V3.hist(bins=50,density='True')\n",
    "#df1.V4.hist(bins=50)"
   ]
  },
  {
   "cell_type": "markdown",
   "metadata": {},
   "source": [
    "#### Initial few features are plotted for checking the normality/gaussian distribution assumption which though is not a hard and fast requirement"
   ]
  },
  {
   "cell_type": "code",
   "execution_count": 8,
   "metadata": {},
   "outputs": [
    {
     "data": {
      "text/plain": [
       "<matplotlib.axes._subplots.AxesSubplot at 0x286548f96a0>"
      ]
     },
     "execution_count": 8,
     "metadata": {},
     "output_type": "execute_result"
    },
    {
     "data": {
      "image/png": "[encoded data removed]",
      "text/plain": [
       "<matplotlib.figure.Figure at 0x28653e524a8>"
      ]
     },
     "metadata": {},
     "output_type": "display_data"
    }
   ],
   "source": [
    "import seaborn as sns\n",
    "f, (ax1, ax2,ax3, ax4) = plt.subplots(4)\n",
    "sns.distplot(df1.V2,ax=ax1)\n",
    "sns.distplot(df1.V3,ax=ax2)\n",
    "sns.distplot(df1.V4,ax=ax3)\n",
    "sns.distplot(df1.V5,ax=ax4)\n"
   ]
  },
  {
   "cell_type": "code",
   "execution_count": 9,
   "metadata": {
    "collapsed": true
   },
   "outputs": [],
   "source": [
    "a=df1[df1.Class==0].mean(axis=0)\n",
    "a=pd.DataFrame(a)\n",
    "newdf1 = a.iloc[1:29,]"
   ]
  },
  {
   "cell_type": "code",
   "execution_count": 10,
   "metadata": {
    "collapsed": true
   },
   "outputs": [],
   "source": [
    "b=df1[df1.Class==1].mean(axis=0)\n",
    "b=pd.DataFrame(b)\n",
    "newdf2 = b.iloc[1:29,]"
   ]
  },
  {
   "cell_type": "code",
   "execution_count": 11,
   "metadata": {},
   "outputs": [
    {
     "data": {
      "image/png": "[encoded data removed]",
      "text/plain": [
       "<matplotlib.figure.Figure at 0x28654943a90>"
      ]
     },
     "metadata": {},
     "output_type": "display_data"
    }
   ],
   "source": [
    "x=np.arange(28)\n",
    "plt.plot(x,newdf1)\n",
    "plt.plot(x,newdf2)\n",
    "plt.legend(['Class 0[non-anomolous]', 'Class 1[anomolous]'], loc='upper right')\n",
    "plt.xlabel('Feature Number (V..)')\n",
    "plt.ylabel('Mean value')\n",
    "plt.title('Feature vs Mean Value of each feature')\n",
    "plt.show()"
   ]
  },
  {
   "cell_type": "markdown",
   "metadata": {
    "collapsed": true
   },
   "source": [
    "#### Magnified and split up version of above graph"
   ]
  },
  {
   "cell_type": "code",
   "execution_count": 12,
   "metadata": {},
   "outputs": [
    {
     "data": {
      "text/plain": [
       "<matplotlib.axes._subplots.AxesSubplot at 0x28654bb3d68>"
      ]
     },
     "execution_count": 12,
     "metadata": {},
     "output_type": "execute_result"
    },
    {
     "data": {
      "image/png": "[encoded data removed]",
      "text/plain": [
       "<matplotlib.figure.Figure at 0x28653e07390>"
      ]
     },
     "metadata": {},
     "output_type": "display_data"
    }
   ],
   "source": [
    "newdf1.plot()"
   ]
  },
  {
   "cell_type": "code",
   "execution_count": 13,
   "metadata": {},
   "outputs": [
    {
     "data": {
      "text/plain": [
       "<matplotlib.axes._subplots.AxesSubplot at 0x28654afa518>"
      ]
     },
     "execution_count": 13,
     "metadata": {},
     "output_type": "execute_result"
    },
    {
     "data": {
      "image/png": "[encoded data removed]",
      "text/plain": [
       "<matplotlib.figure.Figure at 0x28655c17d68>"
      ]
     },
     "metadata": {},
     "output_type": "display_data"
    }
   ],
   "source": [
    "newdf2.plot()"
   ]
  },
  {
   "cell_type": "markdown",
   "metadata": {},
   "source": [
    "### From the above graphs, it can be seen that, certain features of anomolous and non-anomolous values' means are indistinguishable and hence are removed"
   ]
  },
  {
   "cell_type": "code",
   "execution_count": 14,
   "metadata": {
    "collapsed": true
   },
   "outputs": [],
   "source": [
    "cols = [0,29]\n",
    "df1.drop(df1.columns[cols],axis=1,inplace=True)"
   ]
  },
  {
   "cell_type": "code",
   "execution_count": 15,
   "metadata": {},
   "outputs": [
    {
     "data": {
      "text/plain": [
       "Index(['V1', 'V2', 'V3', 'V4', 'V5', 'V6', 'V7', 'V8', 'V9', 'V10', 'V11',\n",
       "       'V12', 'V13', 'V14', 'V15', 'V16', 'V17', 'V18', 'V19', 'V20', 'V21',\n",
       "       'V22', 'V23', 'V24', 'V25', 'V26', 'V27', 'V28', 'Class'],\n",
       "      dtype='object')"
      ]
     },
     "execution_count": 15,
     "metadata": {},
     "output_type": "execute_result"
    }
   ],
   "source": [
    "df1.columns"
   ]
  },
  {
   "cell_type": "code",
   "execution_count": 16,
   "metadata": {
    "collapsed": true
   },
   "outputs": [],
   "source": [
    "cols = [7, 12, 14, 18,19,20,21,22,23,24,25,26,27]\n",
    "df1.drop(df1.columns[cols],axis=1,inplace=True)"
   ]
  },
  {
   "cell_type": "code",
   "execution_count": 17,
   "metadata": {},
   "outputs": [
    {
     "data": {
      "text/plain": [
       "Index(['V1', 'V2', 'V3', 'V4', 'V5', 'V6', 'V7', 'V9', 'V10', 'V11', 'V12',\n",
       "       'V14', 'V16', 'V17', 'V18', 'Class'],\n",
       "      dtype='object')"
      ]
     },
     "execution_count": 17,
     "metadata": {},
     "output_type": "execute_result"
    }
   ],
   "source": [
    "df1.columns"
   ]
  },
  {
   "cell_type": "code",
   "execution_count": 18,
   "metadata": {
    "collapsed": true
   },
   "outputs": [],
   "source": [
    "df_svm=df1 # create a copy of the daatset for doing one class in later sections"
   ]
  },
  {
   "cell_type": "markdown",
   "metadata": {},
   "source": [
    "### Train-Cross Validation-Test split"
   ]
  },
  {
   "cell_type": "code",
   "execution_count": 19,
   "metadata": {
    "collapsed": true
   },
   "outputs": [],
   "source": [
    "negData = df1.groupby('Class').get_group(0)\n",
    "posData = df1.groupby('Class').get_group(1)\n",
    "\n",
    "#following are dataframes sliced and not indices\n",
    "# Give 60:20:20 split for non-anomolous data into train, validation and test sets\n",
    "train, negCV, negTest = np.split(negData.sample(frac=1), [int(.6*len(negData)), int(.8*len(negData))])\n",
    "\n",
    "# Give 50:50 split for anomolous exampels for validation and test sets\n",
    "posCV, posTest = np.split(posData.sample(frac=1), 2) \n",
    "\n",
    "# Concatenate to form final cv and test DataFrame set\n",
    "cv = negCV.append(posCV)\n",
    "test = negTest.append(posTest)"
   ]
  },
  {
   "cell_type": "code",
   "execution_count": 20,
   "metadata": {
    "collapsed": true
   },
   "outputs": [],
   "source": [
    "Xtrain = train[train.columns[0:15]]\n",
    "Ytrain = train[train.columns[15:]]\n",
    "XCV = cv[cv.columns[0:15]]\n",
    "YCV = cv[cv.columns[15:]]\n",
    "Xtest = test[test.columns[0:15]]\n",
    "Ytest = test[test.columns[15:]]"
   ]
  },
  {
   "cell_type": "code",
   "execution_count": 21,
   "metadata": {},
   "outputs": [
    {
     "data": {
      "text/html": [
       "<div>\n",
       "<style>\n",
       "    .dataframe thead tr:only-child th {\n",
       "        text-align: right;\n",
       "    }\n",
       "\n",
       "    .dataframe thead th {\n",
       "        text-align: left;\n",
       "    }\n",
       "\n",
       "    .dataframe tbody tr th {\n",
       "        vertical-align: top;\n",
       "    }\n",
       "</style>\n",
       "<table border=\"1\" class=\"dataframe\">\n",
       "  <thead>\n",
       "    <tr style=\"text-align: right;\">\n",
       "      <th></th>\n",
       "      <th>V1</th>\n",
       "      <th>V2</th>\n",
       "      <th>V3</th>\n",
       "      <th>V4</th>\n",
       "      <th>V5</th>\n",
       "      <th>V6</th>\n",
       "      <th>V7</th>\n",
       "      <th>V9</th>\n",
       "      <th>V10</th>\n",
       "      <th>V11</th>\n",
       "      <th>V12</th>\n",
       "      <th>V14</th>\n",
       "      <th>V16</th>\n",
       "      <th>V17</th>\n",
       "      <th>V18</th>\n",
       "    </tr>\n",
       "  </thead>\n",
       "  <tbody>\n",
       "    <tr>\n",
       "      <th>42354</th>\n",
       "      <td>-0.791323</td>\n",
       "      <td>0.122418</td>\n",
       "      <td>2.028377</td>\n",
       "      <td>0.186637</td>\n",
       "      <td>0.164921</td>\n",
       "      <td>0.838906</td>\n",
       "      <td>-0.296780</td>\n",
       "      <td>0.417125</td>\n",
       "      <td>-0.536347</td>\n",
       "      <td>1.024051</td>\n",
       "      <td>0.860273</td>\n",
       "      <td>-0.191593</td>\n",
       "      <td>-0.101711</td>\n",
       "      <td>-0.211816</td>\n",
       "      <td>-0.339933</td>\n",
       "    </tr>\n",
       "    <tr>\n",
       "      <th>56373</th>\n",
       "      <td>1.242710</td>\n",
       "      <td>-0.793228</td>\n",
       "      <td>0.374053</td>\n",
       "      <td>-0.373310</td>\n",
       "      <td>-1.122169</td>\n",
       "      <td>-0.613830</td>\n",
       "      <td>-0.527705</td>\n",
       "      <td>-0.386690</td>\n",
       "      <td>0.472604</td>\n",
       "      <td>-0.277636</td>\n",
       "      <td>-0.730544</td>\n",
       "      <td>-0.142040</td>\n",
       "      <td>0.138256</td>\n",
       "      <td>1.178149</td>\n",
       "      <td>-2.170078</td>\n",
       "    </tr>\n",
       "    <tr>\n",
       "      <th>272756</th>\n",
       "      <td>-1.595079</td>\n",
       "      <td>1.273539</td>\n",
       "      <td>-0.192427</td>\n",
       "      <td>-1.597099</td>\n",
       "      <td>0.219719</td>\n",
       "      <td>-0.478813</td>\n",
       "      <td>0.352992</td>\n",
       "      <td>-0.150878</td>\n",
       "      <td>-1.245777</td>\n",
       "      <td>-1.690886</td>\n",
       "      <td>0.110882</td>\n",
       "      <td>0.482653</td>\n",
       "      <td>0.729708</td>\n",
       "      <td>-0.643692</td>\n",
       "      <td>-0.359400</td>\n",
       "    </tr>\n",
       "    <tr>\n",
       "      <th>260079</th>\n",
       "      <td>1.906856</td>\n",
       "      <td>-0.281120</td>\n",
       "      <td>-1.196473</td>\n",
       "      <td>0.703067</td>\n",
       "      <td>-0.007008</td>\n",
       "      <td>-0.171771</td>\n",
       "      <td>-0.250275</td>\n",
       "      <td>1.268682</td>\n",
       "      <td>-0.715663</td>\n",
       "      <td>-1.081058</td>\n",
       "      <td>0.392105</td>\n",
       "      <td>-1.677154</td>\n",
       "      <td>0.171990</td>\n",
       "      <td>0.942909</td>\n",
       "      <td>-0.445431</td>\n",
       "    </tr>\n",
       "    <tr>\n",
       "      <th>15737</th>\n",
       "      <td>1.263565</td>\n",
       "      <td>0.248662</td>\n",
       "      <td>-0.085738</td>\n",
       "      <td>0.942127</td>\n",
       "      <td>0.082151</td>\n",
       "      <td>-0.489679</td>\n",
       "      <td>0.200360</td>\n",
       "      <td>0.098727</td>\n",
       "      <td>0.018533</td>\n",
       "      <td>-1.212135</td>\n",
       "      <td>-0.301921</td>\n",
       "      <td>0.423682</td>\n",
       "      <td>0.315121</td>\n",
       "      <td>-0.707402</td>\n",
       "      <td>0.175523</td>\n",
       "    </tr>\n",
       "    <tr>\n",
       "      <th>88772</th>\n",
       "      <td>-2.074349</td>\n",
       "      <td>-2.253113</td>\n",
       "      <td>1.220184</td>\n",
       "      <td>-0.159201</td>\n",
       "      <td>-0.023512</td>\n",
       "      <td>-0.919730</td>\n",
       "      <td>0.507808</td>\n",
       "      <td>-1.630092</td>\n",
       "      <td>-0.035451</td>\n",
       "      <td>-0.082080</td>\n",
       "      <td>-0.705107</td>\n",
       "      <td>-0.091554</td>\n",
       "      <td>-0.203166</td>\n",
       "      <td>1.326707</td>\n",
       "      <td>-1.760232</td>\n",
       "    </tr>\n",
       "    <tr>\n",
       "      <th>99436</th>\n",
       "      <td>1.190555</td>\n",
       "      <td>-1.038188</td>\n",
       "      <td>-0.684583</td>\n",
       "      <td>-0.638295</td>\n",
       "      <td>-0.439473</td>\n",
       "      <td>-0.219484</td>\n",
       "      <td>-0.082469</td>\n",
       "      <td>-0.622870</td>\n",
       "      <td>0.569111</td>\n",
       "      <td>-2.100103</td>\n",
       "      <td>-0.836611</td>\n",
       "      <td>0.102582</td>\n",
       "      <td>-1.337136</td>\n",
       "      <td>-0.152602</td>\n",
       "      <td>1.164815</td>\n",
       "    </tr>\n",
       "    <tr>\n",
       "      <th>82024</th>\n",
       "      <td>1.260133</td>\n",
       "      <td>0.376625</td>\n",
       "      <td>0.289225</td>\n",
       "      <td>0.677149</td>\n",
       "      <td>-0.314586</td>\n",
       "      <td>-1.032975</td>\n",
       "      <td>0.108569</td>\n",
       "      <td>-0.014426</td>\n",
       "      <td>-0.292523</td>\n",
       "      <td>-0.059335</td>\n",
       "      <td>0.394679</td>\n",
       "      <td>-0.357557</td>\n",
       "      <td>0.479262</td>\n",
       "      <td>-0.044907</td>\n",
       "      <td>-0.321896</td>\n",
       "    </tr>\n",
       "    <tr>\n",
       "      <th>58104</th>\n",
       "      <td>1.176640</td>\n",
       "      <td>0.077912</td>\n",
       "      <td>0.098000</td>\n",
       "      <td>0.501877</td>\n",
       "      <td>-0.428312</td>\n",
       "      <td>-1.091428</td>\n",
       "      <td>0.227944</td>\n",
       "      <td>-0.173322</td>\n",
       "      <td>0.158184</td>\n",
       "      <td>1.347497</td>\n",
       "      <td>0.020278</td>\n",
       "      <td>1.077943</td>\n",
       "      <td>0.256532</td>\n",
       "      <td>-0.315291</td>\n",
       "      <td>-0.212735</td>\n",
       "    </tr>\n",
       "    <tr>\n",
       "      <th>89587</th>\n",
       "      <td>-1.290694</td>\n",
       "      <td>1.716589</td>\n",
       "      <td>0.251544</td>\n",
       "      <td>1.014344</td>\n",
       "      <td>-0.507471</td>\n",
       "      <td>-0.233675</td>\n",
       "      <td>-0.105719</td>\n",
       "      <td>-0.482875</td>\n",
       "      <td>0.051038</td>\n",
       "      <td>-1.490325</td>\n",
       "      <td>-0.369807</td>\n",
       "      <td>0.846917</td>\n",
       "      <td>0.316407</td>\n",
       "      <td>-0.085695</td>\n",
       "      <td>0.329359</td>\n",
       "    </tr>\n",
       "    <tr>\n",
       "      <th>10766</th>\n",
       "      <td>-3.970079</td>\n",
       "      <td>-4.360939</td>\n",
       "      <td>2.771931</td>\n",
       "      <td>-0.513961</td>\n",
       "      <td>3.476109</td>\n",
       "      <td>-3.445097</td>\n",
       "      <td>-3.127889</td>\n",
       "      <td>2.771119</td>\n",
       "      <td>-1.615133</td>\n",
       "      <td>1.835602</td>\n",
       "      <td>-1.898721</td>\n",
       "      <td>1.886164</td>\n",
       "      <td>-0.213203</td>\n",
       "      <td>0.377101</td>\n",
       "      <td>1.327797</td>\n",
       "    </tr>\n",
       "    <tr>\n",
       "      <th>27238</th>\n",
       "      <td>1.278403</td>\n",
       "      <td>0.069547</td>\n",
       "      <td>-1.185201</td>\n",
       "      <td>0.068500</td>\n",
       "      <td>2.190196</td>\n",
       "      <td>3.385198</td>\n",
       "      <td>-0.441669</td>\n",
       "      <td>-0.147607</td>\n",
       "      <td>0.123162</td>\n",
       "      <td>-0.190663</td>\n",
       "      <td>0.000096</td>\n",
       "      <td>0.468190</td>\n",
       "      <td>0.476182</td>\n",
       "      <td>-0.972933</td>\n",
       "      <td>0.375396</td>\n",
       "    </tr>\n",
       "    <tr>\n",
       "      <th>65743</th>\n",
       "      <td>-0.456824</td>\n",
       "      <td>-2.515502</td>\n",
       "      <td>-2.538499</td>\n",
       "      <td>0.952770</td>\n",
       "      <td>1.514812</td>\n",
       "      <td>3.535709</td>\n",
       "      <td>0.762893</td>\n",
       "      <td>-0.280115</td>\n",
       "      <td>-0.819564</td>\n",
       "      <td>0.240479</td>\n",
       "      <td>-0.159737</td>\n",
       "      <td>-0.606048</td>\n",
       "      <td>1.090104</td>\n",
       "      <td>-0.005300</td>\n",
       "      <td>0.997826</td>\n",
       "    </tr>\n",
       "    <tr>\n",
       "      <th>6347</th>\n",
       "      <td>-0.332832</td>\n",
       "      <td>1.171703</td>\n",
       "      <td>2.092649</td>\n",
       "      <td>1.307120</td>\n",
       "      <td>0.016015</td>\n",
       "      <td>-0.328278</td>\n",
       "      <td>0.758200</td>\n",
       "      <td>0.806480</td>\n",
       "      <td>-0.174539</td>\n",
       "      <td>0.734113</td>\n",
       "      <td>-2.254224</td>\n",
       "      <td>1.206127</td>\n",
       "      <td>-0.284119</td>\n",
       "      <td>0.391876</td>\n",
       "      <td>0.339703</td>\n",
       "    </tr>\n",
       "    <tr>\n",
       "      <th>230542</th>\n",
       "      <td>1.869862</td>\n",
       "      <td>-0.265496</td>\n",
       "      <td>-1.651223</td>\n",
       "      <td>0.316777</td>\n",
       "      <td>0.895262</td>\n",
       "      <td>0.672764</td>\n",
       "      <td>0.108602</td>\n",
       "      <td>0.384386</td>\n",
       "      <td>-0.032355</td>\n",
       "      <td>-0.157575</td>\n",
       "      <td>0.510512</td>\n",
       "      <td>0.509998</td>\n",
       "      <td>-1.180376</td>\n",
       "      <td>0.619429</td>\n",
       "      <td>-2.169315</td>\n",
       "    </tr>\n",
       "    <tr>\n",
       "      <th>265787</th>\n",
       "      <td>2.093992</td>\n",
       "      <td>-2.165572</td>\n",
       "      <td>0.759693</td>\n",
       "      <td>-1.161876</td>\n",
       "      <td>-2.429571</td>\n",
       "      <td>1.006923</td>\n",
       "      <td>-2.559925</td>\n",
       "      <td>0.296185</td>\n",
       "      <td>1.317580</td>\n",
       "      <td>-0.409982</td>\n",
       "      <td>0.527926</td>\n",
       "      <td>-1.776357</td>\n",
       "      <td>-0.596343</td>\n",
       "      <td>0.650049</td>\n",
       "      <td>0.691744</td>\n",
       "    </tr>\n",
       "    <tr>\n",
       "      <th>98958</th>\n",
       "      <td>1.206517</td>\n",
       "      <td>0.458030</td>\n",
       "      <td>-0.005985</td>\n",
       "      <td>1.135561</td>\n",
       "      <td>0.066046</td>\n",
       "      <td>-0.908511</td>\n",
       "      <td>0.487418</td>\n",
       "      <td>-0.312070</td>\n",
       "      <td>-0.001505</td>\n",
       "      <td>0.158942</td>\n",
       "      <td>0.433435</td>\n",
       "      <td>0.603164</td>\n",
       "      <td>-0.606405</td>\n",
       "      <td>0.081742</td>\n",
       "      <td>-0.930799</td>\n",
       "    </tr>\n",
       "    <tr>\n",
       "      <th>246893</th>\n",
       "      <td>-3.356686</td>\n",
       "      <td>3.331425</td>\n",
       "      <td>-2.528505</td>\n",
       "      <td>-3.573598</td>\n",
       "      <td>4.191759</td>\n",
       "      <td>2.770008</td>\n",
       "      <td>2.955261</td>\n",
       "      <td>4.592555</td>\n",
       "      <td>7.604879</td>\n",
       "      <td>1.217518</td>\n",
       "      <td>-0.921532</td>\n",
       "      <td>-2.611055</td>\n",
       "      <td>-2.045548</td>\n",
       "      <td>-1.749002</td>\n",
       "      <td>-1.089159</td>\n",
       "    </tr>\n",
       "    <tr>\n",
       "      <th>143889</th>\n",
       "      <td>-0.855712</td>\n",
       "      <td>0.467598</td>\n",
       "      <td>0.505937</td>\n",
       "      <td>-0.898450</td>\n",
       "      <td>1.713252</td>\n",
       "      <td>3.969110</td>\n",
       "      <td>-0.932848</td>\n",
       "      <td>-0.010376</td>\n",
       "      <td>-0.876563</td>\n",
       "      <td>-0.837604</td>\n",
       "      <td>0.089568</td>\n",
       "      <td>-0.026978</td>\n",
       "      <td>0.479069</td>\n",
       "      <td>-0.474138</td>\n",
       "      <td>0.438055</td>\n",
       "    </tr>\n",
       "    <tr>\n",
       "      <th>45570</th>\n",
       "      <td>-0.694315</td>\n",
       "      <td>1.068439</td>\n",
       "      <td>1.261305</td>\n",
       "      <td>1.010362</td>\n",
       "      <td>-0.189106</td>\n",
       "      <td>-0.154030</td>\n",
       "      <td>0.134747</td>\n",
       "      <td>-0.265479</td>\n",
       "      <td>-0.650101</td>\n",
       "      <td>-1.521342</td>\n",
       "      <td>-0.129126</td>\n",
       "      <td>0.301816</td>\n",
       "      <td>-0.374632</td>\n",
       "      <td>0.213169</td>\n",
       "      <td>-0.013039</td>\n",
       "    </tr>\n",
       "    <tr>\n",
       "      <th>117614</th>\n",
       "      <td>-2.450059</td>\n",
       "      <td>-0.439402</td>\n",
       "      <td>1.000223</td>\n",
       "      <td>-1.286907</td>\n",
       "      <td>0.315900</td>\n",
       "      <td>-0.210950</td>\n",
       "      <td>0.932748</td>\n",
       "      <td>0.524442</td>\n",
       "      <td>0.547297</td>\n",
       "      <td>1.436820</td>\n",
       "      <td>0.771434</td>\n",
       "      <td>-0.395860</td>\n",
       "      <td>0.580279</td>\n",
       "      <td>-0.979744</td>\n",
       "      <td>-0.324681</td>\n",
       "    </tr>\n",
       "    <tr>\n",
       "      <th>248155</th>\n",
       "      <td>2.013608</td>\n",
       "      <td>-1.468550</td>\n",
       "      <td>0.322608</td>\n",
       "      <td>-0.447004</td>\n",
       "      <td>-1.900134</td>\n",
       "      <td>-0.155302</td>\n",
       "      <td>-1.591692</td>\n",
       "      <td>1.097056</td>\n",
       "      <td>0.499558</td>\n",
       "      <td>-1.396698</td>\n",
       "      <td>-0.416056</td>\n",
       "      <td>-1.100550</td>\n",
       "      <td>0.920743</td>\n",
       "      <td>0.539479</td>\n",
       "      <td>-1.237613</td>\n",
       "    </tr>\n",
       "    <tr>\n",
       "      <th>24264</th>\n",
       "      <td>1.012999</td>\n",
       "      <td>-1.307401</td>\n",
       "      <td>0.159209</td>\n",
       "      <td>-0.497360</td>\n",
       "      <td>-1.366354</td>\n",
       "      <td>-0.581019</td>\n",
       "      <td>-0.482666</td>\n",
       "      <td>-0.485142</td>\n",
       "      <td>0.615813</td>\n",
       "      <td>-1.184720</td>\n",
       "      <td>-0.954033</td>\n",
       "      <td>0.192298</td>\n",
       "      <td>-0.855764</td>\n",
       "      <td>-0.252130</td>\n",
       "      <td>1.552981</td>\n",
       "    </tr>\n",
       "    <tr>\n",
       "      <th>235451</th>\n",
       "      <td>-1.228714</td>\n",
       "      <td>0.735063</td>\n",
       "      <td>-0.297016</td>\n",
       "      <td>-2.268942</td>\n",
       "      <td>3.195523</td>\n",
       "      <td>3.596032</td>\n",
       "      <td>0.947841</td>\n",
       "      <td>-0.149846</td>\n",
       "      <td>-0.359483</td>\n",
       "      <td>-0.168714</td>\n",
       "      <td>-0.191650</td>\n",
       "      <td>-0.022977</td>\n",
       "      <td>-0.266619</td>\n",
       "      <td>-0.609655</td>\n",
       "      <td>-0.958628</td>\n",
       "    </tr>\n",
       "    <tr>\n",
       "      <th>176971</th>\n",
       "      <td>2.047849</td>\n",
       "      <td>-0.427801</td>\n",
       "      <td>-0.659842</td>\n",
       "      <td>0.287565</td>\n",
       "      <td>-0.313177</td>\n",
       "      <td>-0.024828</td>\n",
       "      <td>-0.613864</td>\n",
       "      <td>1.527590</td>\n",
       "      <td>-0.166434</td>\n",
       "      <td>-1.902237</td>\n",
       "      <td>0.189201</td>\n",
       "      <td>-0.277475</td>\n",
       "      <td>0.371578</td>\n",
       "      <td>-0.879892</td>\n",
       "      <td>0.524039</td>\n",
       "    </tr>\n",
       "    <tr>\n",
       "      <th>109380</th>\n",
       "      <td>1.126520</td>\n",
       "      <td>0.142451</td>\n",
       "      <td>0.425072</td>\n",
       "      <td>1.279547</td>\n",
       "      <td>-0.118872</td>\n",
       "      <td>0.129547</td>\n",
       "      <td>-0.058754</td>\n",
       "      <td>0.079990</td>\n",
       "      <td>0.054833</td>\n",
       "      <td>1.106681</td>\n",
       "      <td>1.049301</td>\n",
       "      <td>0.325203</td>\n",
       "      <td>-0.512134</td>\n",
       "      <td>0.030735</td>\n",
       "      <td>-0.444438</td>\n",
       "    </tr>\n",
       "    <tr>\n",
       "      <th>22878</th>\n",
       "      <td>0.947628</td>\n",
       "      <td>-0.146369</td>\n",
       "      <td>0.027690</td>\n",
       "      <td>1.173722</td>\n",
       "      <td>-0.092331</td>\n",
       "      <td>-0.066087</td>\n",
       "      <td>0.239221</td>\n",
       "      <td>-0.075828</td>\n",
       "      <td>0.029446</td>\n",
       "      <td>1.198904</td>\n",
       "      <td>0.823018</td>\n",
       "      <td>0.610984</td>\n",
       "      <td>-0.473670</td>\n",
       "      <td>-0.036467</td>\n",
       "      <td>-0.294026</td>\n",
       "    </tr>\n",
       "    <tr>\n",
       "      <th>190250</th>\n",
       "      <td>-2.085416</td>\n",
       "      <td>0.476038</td>\n",
       "      <td>-1.240893</td>\n",
       "      <td>-0.265185</td>\n",
       "      <td>1.018942</td>\n",
       "      <td>-0.155895</td>\n",
       "      <td>-0.038226</td>\n",
       "      <td>0.027540</td>\n",
       "      <td>-0.271025</td>\n",
       "      <td>-0.444852</td>\n",
       "      <td>0.698670</td>\n",
       "      <td>0.885820</td>\n",
       "      <td>-1.108173</td>\n",
       "      <td>0.656616</td>\n",
       "      <td>-1.264384</td>\n",
       "    </tr>\n",
       "    <tr>\n",
       "      <th>36465</th>\n",
       "      <td>-0.709861</td>\n",
       "      <td>0.705437</td>\n",
       "      <td>0.869806</td>\n",
       "      <td>0.344446</td>\n",
       "      <td>0.336201</td>\n",
       "      <td>-0.554578</td>\n",
       "      <td>0.773222</td>\n",
       "      <td>-0.794762</td>\n",
       "      <td>0.204489</td>\n",
       "      <td>0.933794</td>\n",
       "      <td>-0.113091</td>\n",
       "      <td>0.791719</td>\n",
       "      <td>-0.112355</td>\n",
       "      <td>-0.208918</td>\n",
       "      <td>0.143081</td>\n",
       "    </tr>\n",
       "    <tr>\n",
       "      <th>272125</th>\n",
       "      <td>1.960784</td>\n",
       "      <td>0.367544</td>\n",
       "      <td>-1.796268</td>\n",
       "      <td>1.289349</td>\n",
       "      <td>0.739258</td>\n",
       "      <td>-0.495818</td>\n",
       "      <td>0.307806</td>\n",
       "      <td>-0.003153</td>\n",
       "      <td>-0.096640</td>\n",
       "      <td>1.206507</td>\n",
       "      <td>0.712596</td>\n",
       "      <td>-0.562461</td>\n",
       "      <td>0.266743</td>\n",
       "      <td>0.376194</td>\n",
       "      <td>0.420099</td>\n",
       "    </tr>\n",
       "    <tr>\n",
       "      <th>...</th>\n",
       "      <td>...</td>\n",
       "      <td>...</td>\n",
       "      <td>...</td>\n",
       "      <td>...</td>\n",
       "      <td>...</td>\n",
       "      <td>...</td>\n",
       "      <td>...</td>\n",
       "      <td>...</td>\n",
       "      <td>...</td>\n",
       "      <td>...</td>\n",
       "      <td>...</td>\n",
       "      <td>...</td>\n",
       "      <td>...</td>\n",
       "      <td>...</td>\n",
       "      <td>...</td>\n",
       "    </tr>\n",
       "    <tr>\n",
       "      <th>135455</th>\n",
       "      <td>1.078349</td>\n",
       "      <td>0.279219</td>\n",
       "      <td>1.585880</td>\n",
       "      <td>2.575223</td>\n",
       "      <td>-0.771193</td>\n",
       "      <td>0.277672</td>\n",
       "      <td>-0.608117</td>\n",
       "      <td>-0.369356</td>\n",
       "      <td>0.707782</td>\n",
       "      <td>1.125482</td>\n",
       "      <td>1.127902</td>\n",
       "      <td>-0.227401</td>\n",
       "      <td>0.892349</td>\n",
       "      <td>-0.785139</td>\n",
       "      <td>0.423411</td>\n",
       "    </tr>\n",
       "    <tr>\n",
       "      <th>207656</th>\n",
       "      <td>-1.938843</td>\n",
       "      <td>0.351718</td>\n",
       "      <td>0.048456</td>\n",
       "      <td>3.774781</td>\n",
       "      <td>-4.061526</td>\n",
       "      <td>5.220928</td>\n",
       "      <td>2.959525</td>\n",
       "      <td>-3.739845</td>\n",
       "      <td>0.883653</td>\n",
       "      <td>0.501227</td>\n",
       "      <td>-0.108604</td>\n",
       "      <td>0.614238</td>\n",
       "      <td>-1.737303</td>\n",
       "      <td>1.351479</td>\n",
       "      <td>0.423218</td>\n",
       "    </tr>\n",
       "    <tr>\n",
       "      <th>7128</th>\n",
       "      <td>1.092920</td>\n",
       "      <td>-0.483388</td>\n",
       "      <td>1.191659</td>\n",
       "      <td>0.445027</td>\n",
       "      <td>-1.056428</td>\n",
       "      <td>0.124431</td>\n",
       "      <td>-0.830021</td>\n",
       "      <td>2.617175</td>\n",
       "      <td>-0.859247</td>\n",
       "      <td>0.223362</td>\n",
       "      <td>-2.318932</td>\n",
       "      <td>1.094301</td>\n",
       "      <td>-0.394860</td>\n",
       "      <td>1.207625</td>\n",
       "      <td>-0.697125</td>\n",
       "    </tr>\n",
       "    <tr>\n",
       "      <th>85021</th>\n",
       "      <td>-0.514042</td>\n",
       "      <td>0.101346</td>\n",
       "      <td>1.363606</td>\n",
       "      <td>-1.643338</td>\n",
       "      <td>0.354605</td>\n",
       "      <td>-1.322277</td>\n",
       "      <td>0.876678</td>\n",
       "      <td>-1.770063</td>\n",
       "      <td>0.145927</td>\n",
       "      <td>0.503492</td>\n",
       "      <td>-0.077784</td>\n",
       "      <td>-0.398707</td>\n",
       "      <td>0.286640</td>\n",
       "      <td>0.454530</td>\n",
       "      <td>-2.289019</td>\n",
       "    </tr>\n",
       "    <tr>\n",
       "      <th>244020</th>\n",
       "      <td>1.971960</td>\n",
       "      <td>-0.339703</td>\n",
       "      <td>-0.414896</td>\n",
       "      <td>0.225152</td>\n",
       "      <td>-0.409367</td>\n",
       "      <td>-0.276522</td>\n",
       "      <td>-0.451447</td>\n",
       "      <td>0.877276</td>\n",
       "      <td>-0.061599</td>\n",
       "      <td>-0.624891</td>\n",
       "      <td>1.058421</td>\n",
       "      <td>-0.386051</td>\n",
       "      <td>0.423541</td>\n",
       "      <td>-0.629564</td>\n",
       "      <td>-0.533665</td>\n",
       "    </tr>\n",
       "    <tr>\n",
       "      <th>227409</th>\n",
       "      <td>-18.008907</td>\n",
       "      <td>-4.306196</td>\n",
       "      <td>-10.182544</td>\n",
       "      <td>1.913632</td>\n",
       "      <td>-4.366467</td>\n",
       "      <td>1.309531</td>\n",
       "      <td>-0.441166</td>\n",
       "      <td>0.308149</td>\n",
       "      <td>0.415313</td>\n",
       "      <td>-0.332162</td>\n",
       "      <td>2.347661</td>\n",
       "      <td>3.109859</td>\n",
       "      <td>2.110627</td>\n",
       "      <td>1.338508</td>\n",
       "      <td>-1.191403</td>\n",
       "    </tr>\n",
       "    <tr>\n",
       "      <th>158609</th>\n",
       "      <td>-2.240292</td>\n",
       "      <td>-1.122397</td>\n",
       "      <td>0.587628</td>\n",
       "      <td>-3.600608</td>\n",
       "      <td>1.202336</td>\n",
       "      <td>0.192751</td>\n",
       "      <td>-0.581818</td>\n",
       "      <td>2.913180</td>\n",
       "      <td>-2.849454</td>\n",
       "      <td>1.578282</td>\n",
       "      <td>-1.557056</td>\n",
       "      <td>2.013202</td>\n",
       "      <td>-0.525056</td>\n",
       "      <td>0.384045</td>\n",
       "      <td>0.322529</td>\n",
       "    </tr>\n",
       "    <tr>\n",
       "      <th>4324</th>\n",
       "      <td>1.264567</td>\n",
       "      <td>-0.578895</td>\n",
       "      <td>0.527456</td>\n",
       "      <td>-0.605065</td>\n",
       "      <td>-0.882020</td>\n",
       "      <td>-0.459940</td>\n",
       "      <td>-0.657957</td>\n",
       "      <td>0.252333</td>\n",
       "      <td>0.376351</td>\n",
       "      <td>2.187327</td>\n",
       "      <td>-2.422087</td>\n",
       "      <td>1.457081</td>\n",
       "      <td>1.503971</td>\n",
       "      <td>0.577168</td>\n",
       "      <td>-0.700867</td>\n",
       "    </tr>\n",
       "    <tr>\n",
       "      <th>94593</th>\n",
       "      <td>-6.342969</td>\n",
       "      <td>3.349697</td>\n",
       "      <td>1.705767</td>\n",
       "      <td>-1.600219</td>\n",
       "      <td>0.077178</td>\n",
       "      <td>0.298877</td>\n",
       "      <td>3.059092</td>\n",
       "      <td>7.932015</td>\n",
       "      <td>11.504768</td>\n",
       "      <td>3.027109</td>\n",
       "      <td>-0.790496</td>\n",
       "      <td>-5.807267</td>\n",
       "      <td>-1.715942</td>\n",
       "      <td>-2.380449</td>\n",
       "      <td>-0.531228</td>\n",
       "    </tr>\n",
       "    <tr>\n",
       "      <th>131252</th>\n",
       "      <td>1.069319</td>\n",
       "      <td>0.015590</td>\n",
       "      <td>0.071318</td>\n",
       "      <td>0.884014</td>\n",
       "      <td>-0.081083</td>\n",
       "      <td>0.430452</td>\n",
       "      <td>-0.420515</td>\n",
       "      <td>0.509898</td>\n",
       "      <td>-0.658128</td>\n",
       "      <td>1.558169</td>\n",
       "      <td>0.400554</td>\n",
       "      <td>-1.062202</td>\n",
       "      <td>-0.232479</td>\n",
       "      <td>1.519110</td>\n",
       "      <td>-0.223012</td>\n",
       "    </tr>\n",
       "    <tr>\n",
       "      <th>277638</th>\n",
       "      <td>1.997634</td>\n",
       "      <td>-0.138502</td>\n",
       "      <td>-0.767439</td>\n",
       "      <td>0.219771</td>\n",
       "      <td>-0.319873</td>\n",
       "      <td>-1.112293</td>\n",
       "      <td>0.024682</td>\n",
       "      <td>0.480774</td>\n",
       "      <td>0.055854</td>\n",
       "      <td>-0.395827</td>\n",
       "      <td>0.558267</td>\n",
       "      <td>0.273114</td>\n",
       "      <td>0.355708</td>\n",
       "      <td>-0.534989</td>\n",
       "      <td>-0.940516</td>\n",
       "    </tr>\n",
       "    <tr>\n",
       "      <th>94566</th>\n",
       "      <td>-0.363096</td>\n",
       "      <td>-0.144216</td>\n",
       "      <td>1.394712</td>\n",
       "      <td>-1.977263</td>\n",
       "      <td>-0.789968</td>\n",
       "      <td>-0.102733</td>\n",
       "      <td>0.456917</td>\n",
       "      <td>1.252484</td>\n",
       "      <td>-1.727373</td>\n",
       "      <td>-1.148795</td>\n",
       "      <td>0.604115</td>\n",
       "      <td>-0.568552</td>\n",
       "      <td>-0.284449</td>\n",
       "      <td>-0.430975</td>\n",
       "      <td>0.569240</td>\n",
       "    </tr>\n",
       "    <tr>\n",
       "      <th>92054</th>\n",
       "      <td>0.237048</td>\n",
       "      <td>0.897185</td>\n",
       "      <td>-1.343642</td>\n",
       "      <td>-0.237684</td>\n",
       "      <td>2.869751</td>\n",
       "      <td>3.123312</td>\n",
       "      <td>0.440084</td>\n",
       "      <td>-0.654707</td>\n",
       "      <td>0.265555</td>\n",
       "      <td>-0.312918</td>\n",
       "      <td>-0.229777</td>\n",
       "      <td>0.642269</td>\n",
       "      <td>-0.228781</td>\n",
       "      <td>-0.644320</td>\n",
       "      <td>0.327579</td>\n",
       "    </tr>\n",
       "    <tr>\n",
       "      <th>207765</th>\n",
       "      <td>-0.730445</td>\n",
       "      <td>0.932260</td>\n",
       "      <td>-0.422876</td>\n",
       "      <td>-0.425863</td>\n",
       "      <td>0.640504</td>\n",
       "      <td>-0.809697</td>\n",
       "      <td>0.563305</td>\n",
       "      <td>-0.190037</td>\n",
       "      <td>-0.550618</td>\n",
       "      <td>-1.199048</td>\n",
       "      <td>-0.085831</td>\n",
       "      <td>0.662463</td>\n",
       "      <td>-0.225518</td>\n",
       "      <td>-0.370153</td>\n",
       "      <td>0.331493</td>\n",
       "    </tr>\n",
       "    <tr>\n",
       "      <th>212718</th>\n",
       "      <td>-1.249157</td>\n",
       "      <td>1.323139</td>\n",
       "      <td>-2.751282</td>\n",
       "      <td>-1.241107</td>\n",
       "      <td>1.778709</td>\n",
       "      <td>4.737050</td>\n",
       "      <td>-0.201078</td>\n",
       "      <td>-0.493907</td>\n",
       "      <td>-1.496852</td>\n",
       "      <td>0.152378</td>\n",
       "      <td>-0.007643</td>\n",
       "      <td>-0.106499</td>\n",
       "      <td>0.261872</td>\n",
       "      <td>0.607587</td>\n",
       "      <td>0.613561</td>\n",
       "    </tr>\n",
       "    <tr>\n",
       "      <th>123699</th>\n",
       "      <td>-0.376783</td>\n",
       "      <td>0.939876</td>\n",
       "      <td>1.088407</td>\n",
       "      <td>-0.417920</td>\n",
       "      <td>0.522815</td>\n",
       "      <td>0.092015</td>\n",
       "      <td>0.566406</td>\n",
       "      <td>-0.533251</td>\n",
       "      <td>-0.135136</td>\n",
       "      <td>0.207330</td>\n",
       "      <td>0.102886</td>\n",
       "      <td>0.325150</td>\n",
       "      <td>0.748937</td>\n",
       "      <td>-1.052235</td>\n",
       "      <td>0.559240</td>\n",
       "    </tr>\n",
       "    <tr>\n",
       "      <th>137465</th>\n",
       "      <td>1.105873</td>\n",
       "      <td>0.446190</td>\n",
       "      <td>0.877861</td>\n",
       "      <td>2.684209</td>\n",
       "      <td>-0.037307</td>\n",
       "      <td>0.363717</td>\n",
       "      <td>-0.027607</td>\n",
       "      <td>-0.427559</td>\n",
       "      <td>0.428315</td>\n",
       "      <td>-0.538932</td>\n",
       "      <td>1.055469</td>\n",
       "      <td>-0.456870</td>\n",
       "      <td>-0.266984</td>\n",
       "      <td>0.044720</td>\n",
       "      <td>-1.153316</td>\n",
       "    </tr>\n",
       "    <tr>\n",
       "      <th>13082</th>\n",
       "      <td>-0.748217</td>\n",
       "      <td>0.630299</td>\n",
       "      <td>1.727471</td>\n",
       "      <td>0.248392</td>\n",
       "      <td>0.002078</td>\n",
       "      <td>0.215958</td>\n",
       "      <td>0.356693</td>\n",
       "      <td>1.261224</td>\n",
       "      <td>-0.691234</td>\n",
       "      <td>1.681815</td>\n",
       "      <td>-2.699028</td>\n",
       "      <td>1.888715</td>\n",
       "      <td>-0.443199</td>\n",
       "      <td>0.933507</td>\n",
       "      <td>0.058208</td>\n",
       "    </tr>\n",
       "    <tr>\n",
       "      <th>156926</th>\n",
       "      <td>-1.504053</td>\n",
       "      <td>-0.299147</td>\n",
       "      <td>2.169183</td>\n",
       "      <td>-0.042238</td>\n",
       "      <td>0.942008</td>\n",
       "      <td>-0.143297</td>\n",
       "      <td>0.214351</td>\n",
       "      <td>1.396427</td>\n",
       "      <td>-0.825298</td>\n",
       "      <td>1.756240</td>\n",
       "      <td>-1.928820</td>\n",
       "      <td>1.344954</td>\n",
       "      <td>-0.012439</td>\n",
       "      <td>-0.060232</td>\n",
       "      <td>1.045515</td>\n",
       "    </tr>\n",
       "    <tr>\n",
       "      <th>1980</th>\n",
       "      <td>-1.278672</td>\n",
       "      <td>1.318588</td>\n",
       "      <td>1.321637</td>\n",
       "      <td>-0.842274</td>\n",
       "      <td>-0.323036</td>\n",
       "      <td>-0.753479</td>\n",
       "      <td>0.595773</td>\n",
       "      <td>0.431263</td>\n",
       "      <td>0.452278</td>\n",
       "      <td>1.074479</td>\n",
       "      <td>0.418736</td>\n",
       "      <td>0.067797</td>\n",
       "      <td>0.107557</td>\n",
       "      <td>-0.442812</td>\n",
       "      <td>-0.094131</td>\n",
       "    </tr>\n",
       "    <tr>\n",
       "      <th>122730</th>\n",
       "      <td>1.218236</td>\n",
       "      <td>-0.599405</td>\n",
       "      <td>0.754504</td>\n",
       "      <td>-1.089239</td>\n",
       "      <td>-1.441673</td>\n",
       "      <td>-1.135780</td>\n",
       "      <td>-0.525648</td>\n",
       "      <td>2.014092</td>\n",
       "      <td>-1.183261</td>\n",
       "      <td>-0.343501</td>\n",
       "      <td>0.584883</td>\n",
       "      <td>-0.107596</td>\n",
       "      <td>-0.826271</td>\n",
       "      <td>0.295998</td>\n",
       "      <td>-0.045233</td>\n",
       "    </tr>\n",
       "    <tr>\n",
       "      <th>240464</th>\n",
       "      <td>-4.853459</td>\n",
       "      <td>3.917655</td>\n",
       "      <td>-1.728775</td>\n",
       "      <td>1.001013</td>\n",
       "      <td>-2.521175</td>\n",
       "      <td>0.154400</td>\n",
       "      <td>-2.298054</td>\n",
       "      <td>-0.192430</td>\n",
       "      <td>-0.545419</td>\n",
       "      <td>-2.438445</td>\n",
       "      <td>1.349995</td>\n",
       "      <td>1.812869</td>\n",
       "      <td>-0.045942</td>\n",
       "      <td>1.682700</td>\n",
       "      <td>-0.394446</td>\n",
       "    </tr>\n",
       "    <tr>\n",
       "      <th>88276</th>\n",
       "      <td>1.153151</td>\n",
       "      <td>-0.163403</td>\n",
       "      <td>0.746547</td>\n",
       "      <td>0.954248</td>\n",
       "      <td>-1.011252</td>\n",
       "      <td>-0.874822</td>\n",
       "      <td>-0.217754</td>\n",
       "      <td>0.822806</td>\n",
       "      <td>-0.158992</td>\n",
       "      <td>-0.714834</td>\n",
       "      <td>-0.512915</td>\n",
       "      <td>0.325060</td>\n",
       "      <td>-0.179737</td>\n",
       "      <td>0.236343</td>\n",
       "      <td>-0.569694</td>\n",
       "    </tr>\n",
       "    <tr>\n",
       "      <th>155699</th>\n",
       "      <td>-0.635047</td>\n",
       "      <td>0.979683</td>\n",
       "      <td>0.483127</td>\n",
       "      <td>-0.533553</td>\n",
       "      <td>-0.139971</td>\n",
       "      <td>0.442672</td>\n",
       "      <td>-0.774197</td>\n",
       "      <td>1.721025</td>\n",
       "      <td>-1.218368</td>\n",
       "      <td>1.572765</td>\n",
       "      <td>-2.292445</td>\n",
       "      <td>0.174798</td>\n",
       "      <td>1.807892</td>\n",
       "      <td>0.469607</td>\n",
       "      <td>2.054508</td>\n",
       "    </tr>\n",
       "    <tr>\n",
       "      <th>33533</th>\n",
       "      <td>1.149505</td>\n",
       "      <td>0.396102</td>\n",
       "      <td>0.615531</td>\n",
       "      <td>2.310495</td>\n",
       "      <td>-0.180587</td>\n",
       "      <td>-0.071877</td>\n",
       "      <td>-0.104923</td>\n",
       "      <td>-0.685428</td>\n",
       "      <td>0.893060</td>\n",
       "      <td>0.597537</td>\n",
       "      <td>-0.479812</td>\n",
       "      <td>0.845259</td>\n",
       "      <td>1.156886</td>\n",
       "      <td>-0.908811</td>\n",
       "      <td>0.365414</td>\n",
       "    </tr>\n",
       "    <tr>\n",
       "      <th>58285</th>\n",
       "      <td>0.009685</td>\n",
       "      <td>-2.076022</td>\n",
       "      <td>0.335936</td>\n",
       "      <td>1.260555</td>\n",
       "      <td>-1.318492</td>\n",
       "      <td>0.526869</td>\n",
       "      <td>0.170513</td>\n",
       "      <td>0.691389</td>\n",
       "      <td>-0.449574</td>\n",
       "      <td>1.071870</td>\n",
       "      <td>1.278149</td>\n",
       "      <td>-0.050089</td>\n",
       "      <td>-0.546662</td>\n",
       "      <td>0.397398</td>\n",
       "      <td>-0.500981</td>\n",
       "    </tr>\n",
       "    <tr>\n",
       "      <th>265262</th>\n",
       "      <td>-2.837988</td>\n",
       "      <td>2.476430</td>\n",
       "      <td>-1.533181</td>\n",
       "      <td>-1.675719</td>\n",
       "      <td>1.043085</td>\n",
       "      <td>-1.769555</td>\n",
       "      <td>2.097638</td>\n",
       "      <td>2.472133</td>\n",
       "      <td>3.767056</td>\n",
       "      <td>-0.597262</td>\n",
       "      <td>-1.023377</td>\n",
       "      <td>-0.554407</td>\n",
       "      <td>-1.128829</td>\n",
       "      <td>-0.753439</td>\n",
       "      <td>-0.585999</td>\n",
       "    </tr>\n",
       "    <tr>\n",
       "      <th>233388</th>\n",
       "      <td>2.265999</td>\n",
       "      <td>-1.483258</td>\n",
       "      <td>-0.972292</td>\n",
       "      <td>-1.753658</td>\n",
       "      <td>-1.071702</td>\n",
       "      <td>-0.021265</td>\n",
       "      <td>-1.342271</td>\n",
       "      <td>-1.289308</td>\n",
       "      <td>1.730926</td>\n",
       "      <td>0.269504</td>\n",
       "      <td>-0.422405</td>\n",
       "      <td>-0.269749</td>\n",
       "      <td>-0.153121</td>\n",
       "      <td>0.079644</td>\n",
       "      <td>0.645020</td>\n",
       "    </tr>\n",
       "    <tr>\n",
       "      <th>234115</th>\n",
       "      <td>2.019878</td>\n",
       "      <td>-0.378072</td>\n",
       "      <td>-0.530119</td>\n",
       "      <td>0.338649</td>\n",
       "      <td>-0.354307</td>\n",
       "      <td>-0.082520</td>\n",
       "      <td>-0.574562</td>\n",
       "      <td>1.399953</td>\n",
       "      <td>-0.196094</td>\n",
       "      <td>-1.482124</td>\n",
       "      <td>0.676975</td>\n",
       "      <td>-0.395755</td>\n",
       "      <td>0.198614</td>\n",
       "      <td>-0.762648</td>\n",
       "      <td>0.257532</td>\n",
       "    </tr>\n",
       "    <tr>\n",
       "      <th>265384</th>\n",
       "      <td>2.001651</td>\n",
       "      <td>-0.311275</td>\n",
       "      <td>-1.348059</td>\n",
       "      <td>0.141512</td>\n",
       "      <td>0.461053</td>\n",
       "      <td>0.384374</td>\n",
       "      <td>-0.205435</td>\n",
       "      <td>0.460792</td>\n",
       "      <td>0.220465</td>\n",
       "      <td>0.035037</td>\n",
       "      <td>1.012753</td>\n",
       "      <td>0.114333</td>\n",
       "      <td>0.572332</td>\n",
       "      <td>-1.104130</td>\n",
       "      <td>0.391019</td>\n",
       "    </tr>\n",
       "  </tbody>\n",
       "</table>\n",
       "<p>170589 rows × 15 columns</p>\n",
       "</div>"
      ],
      "text/plain": [
       "               V1        V2         V3        V4        V5        V6  \\\n",
       "42354   -0.791323  0.122418   2.028377  0.186637  0.164921  0.838906   \n",
       "56373    1.242710 -0.793228   0.374053 -0.373310 -1.122169 -0.613830   \n",
       "272756  -1.595079  1.273539  -0.192427 -1.597099  0.219719 -0.478813   \n",
       "260079   1.906856 -0.281120  -1.196473  0.703067 -0.007008 -0.171771   \n",
       "15737    1.263565  0.248662  -0.085738  0.942127  0.082151 -0.489679   \n",
       "88772   -2.074349 -2.253113   1.220184 -0.159201 -0.023512 -0.919730   \n",
       "99436    1.190555 -1.038188  -0.684583 -0.638295 -0.439473 -0.219484   \n",
       "82024    1.260133  0.376625   0.289225  0.677149 -0.314586 -1.032975   \n",
       "58104    1.176640  0.077912   0.098000  0.501877 -0.428312 -1.091428   \n",
       "89587   -1.290694  1.716589   0.251544  1.014344 -0.507471 -0.233675   \n",
       "10766   -3.970079 -4.360939   2.771931 -0.513961  3.476109 -3.445097   \n",
       "27238    1.278403  0.069547  -1.185201  0.068500  2.190196  3.385198   \n",
       "65743   -0.456824 -2.515502  -2.538499  0.952770  1.514812  3.535709   \n",
       "6347    -0.332832  1.171703   2.092649  1.307120  0.016015 -0.328278   \n",
       "230542   1.869862 -0.265496  -1.651223  0.316777  0.895262  0.672764   \n",
       "265787   2.093992 -2.165572   0.759693 -1.161876 -2.429571  1.006923   \n",
       "98958    1.206517  0.458030  -0.005985  1.135561  0.066046 -0.908511   \n",
       "246893  -3.356686  3.331425  -2.528505 -3.573598  4.191759  2.770008   \n",
       "143889  -0.855712  0.467598   0.505937 -0.898450  1.713252  3.969110   \n",
       "45570   -0.694315  1.068439   1.261305  1.010362 -0.189106 -0.154030   \n",
       "117614  -2.450059 -0.439402   1.000223 -1.286907  0.315900 -0.210950   \n",
       "248155   2.013608 -1.468550   0.322608 -0.447004 -1.900134 -0.155302   \n",
       "24264    1.012999 -1.307401   0.159209 -0.497360 -1.366354 -0.581019   \n",
       "235451  -1.228714  0.735063  -0.297016 -2.268942  3.195523  3.596032   \n",
       "176971   2.047849 -0.427801  -0.659842  0.287565 -0.313177 -0.024828   \n",
       "109380   1.126520  0.142451   0.425072  1.279547 -0.118872  0.129547   \n",
       "22878    0.947628 -0.146369   0.027690  1.173722 -0.092331 -0.066087   \n",
       "190250  -2.085416  0.476038  -1.240893 -0.265185  1.018942 -0.155895   \n",
       "36465   -0.709861  0.705437   0.869806  0.344446  0.336201 -0.554578   \n",
       "272125   1.960784  0.367544  -1.796268  1.289349  0.739258 -0.495818   \n",
       "...           ...       ...        ...       ...       ...       ...   \n",
       "135455   1.078349  0.279219   1.585880  2.575223 -0.771193  0.277672   \n",
       "207656  -1.938843  0.351718   0.048456  3.774781 -4.061526  5.220928   \n",
       "7128     1.092920 -0.483388   1.191659  0.445027 -1.056428  0.124431   \n",
       "85021   -0.514042  0.101346   1.363606 -1.643338  0.354605 -1.322277   \n",
       "244020   1.971960 -0.339703  -0.414896  0.225152 -0.409367 -0.276522   \n",
       "227409 -18.008907 -4.306196 -10.182544  1.913632 -4.366467  1.309531   \n",
       "158609  -2.240292 -1.122397   0.587628 -3.600608  1.202336  0.192751   \n",
       "4324     1.264567 -0.578895   0.527456 -0.605065 -0.882020 -0.459940   \n",
       "94593   -6.342969  3.349697   1.705767 -1.600219  0.077178  0.298877   \n",
       "131252   1.069319  0.015590   0.071318  0.884014 -0.081083  0.430452   \n",
       "277638   1.997634 -0.138502  -0.767439  0.219771 -0.319873 -1.112293   \n",
       "94566   -0.363096 -0.144216   1.394712 -1.977263 -0.789968 -0.102733   \n",
       "92054    0.237048  0.897185  -1.343642 -0.237684  2.869751  3.123312   \n",
       "207765  -0.730445  0.932260  -0.422876 -0.425863  0.640504 -0.809697   \n",
       "212718  -1.249157  1.323139  -2.751282 -1.241107  1.778709  4.737050   \n",
       "123699  -0.376783  0.939876   1.088407 -0.417920  0.522815  0.092015   \n",
       "137465   1.105873  0.446190   0.877861  2.684209 -0.037307  0.363717   \n",
       "13082   -0.748217  0.630299   1.727471  0.248392  0.002078  0.215958   \n",
       "156926  -1.504053 -0.299147   2.169183 -0.042238  0.942008 -0.143297   \n",
       "1980    -1.278672  1.318588   1.321637 -0.842274 -0.323036 -0.753479   \n",
       "122730   1.218236 -0.599405   0.754504 -1.089239 -1.441673 -1.135780   \n",
       "240464  -4.853459  3.917655  -1.728775  1.001013 -2.521175  0.154400   \n",
       "88276    1.153151 -0.163403   0.746547  0.954248 -1.011252 -0.874822   \n",
       "155699  -0.635047  0.979683   0.483127 -0.533553 -0.139971  0.442672   \n",
       "33533    1.149505  0.396102   0.615531  2.310495 -0.180587 -0.071877   \n",
       "58285    0.009685 -2.076022   0.335936  1.260555 -1.318492  0.526869   \n",
       "265262  -2.837988  2.476430  -1.533181 -1.675719  1.043085 -1.769555   \n",
       "233388   2.265999 -1.483258  -0.972292 -1.753658 -1.071702 -0.021265   \n",
       "234115   2.019878 -0.378072  -0.530119  0.338649 -0.354307 -0.082520   \n",
       "265384   2.001651 -0.311275  -1.348059  0.141512  0.461053  0.384374   \n",
       "\n",
       "              V7        V9        V10       V11       V12       V14       V16  \\\n",
       "42354  -0.296780  0.417125  -0.536347  1.024051  0.860273 -0.191593 -0.101711   \n",
       "56373  -0.527705 -0.386690   0.472604 -0.277636 -0.730544 -0.142040  0.138256   \n",
       "272756  0.352992 -0.150878  -1.245777 -1.690886  0.110882  0.482653  0.729708   \n",
       "260079 -0.250275  1.268682  -0.715663 -1.081058  0.392105 -1.677154  0.171990   \n",
       "15737   0.200360  0.098727   0.018533 -1.212135 -0.301921  0.423682  0.315121   \n",
       "88772   0.507808 -1.630092  -0.035451 -0.082080 -0.705107 -0.091554 -0.203166   \n",
       "99436  -0.082469 -0.622870   0.569111 -2.100103 -0.836611  0.102582 -1.337136   \n",
       "82024   0.108569 -0.014426  -0.292523 -0.059335  0.394679 -0.357557  0.479262   \n",
       "58104   0.227944 -0.173322   0.158184  1.347497  0.020278  1.077943  0.256532   \n",
       "89587  -0.105719 -0.482875   0.051038 -1.490325 -0.369807  0.846917  0.316407   \n",
       "10766  -3.127889  2.771119  -1.615133  1.835602 -1.898721  1.886164 -0.213203   \n",
       "27238  -0.441669 -0.147607   0.123162 -0.190663  0.000096  0.468190  0.476182   \n",
       "65743   0.762893 -0.280115  -0.819564  0.240479 -0.159737 -0.606048  1.090104   \n",
       "6347    0.758200  0.806480  -0.174539  0.734113 -2.254224  1.206127 -0.284119   \n",
       "230542  0.108602  0.384386  -0.032355 -0.157575  0.510512  0.509998 -1.180376   \n",
       "265787 -2.559925  0.296185   1.317580 -0.409982  0.527926 -1.776357 -0.596343   \n",
       "98958   0.487418 -0.312070  -0.001505  0.158942  0.433435  0.603164 -0.606405   \n",
       "246893  2.955261  4.592555   7.604879  1.217518 -0.921532 -2.611055 -2.045548   \n",
       "143889 -0.932848 -0.010376  -0.876563 -0.837604  0.089568 -0.026978  0.479069   \n",
       "45570   0.134747 -0.265479  -0.650101 -1.521342 -0.129126  0.301816 -0.374632   \n",
       "117614  0.932748  0.524442   0.547297  1.436820  0.771434 -0.395860  0.580279   \n",
       "248155 -1.591692  1.097056   0.499558 -1.396698 -0.416056 -1.100550  0.920743   \n",
       "24264  -0.482666 -0.485142   0.615813 -1.184720 -0.954033  0.192298 -0.855764   \n",
       "235451  0.947841 -0.149846  -0.359483 -0.168714 -0.191650 -0.022977 -0.266619   \n",
       "176971 -0.613864  1.527590  -0.166434 -1.902237  0.189201 -0.277475  0.371578   \n",
       "109380 -0.058754  0.079990   0.054833  1.106681  1.049301  0.325203 -0.512134   \n",
       "22878   0.239221 -0.075828   0.029446  1.198904  0.823018  0.610984 -0.473670   \n",
       "190250 -0.038226  0.027540  -0.271025 -0.444852  0.698670  0.885820 -1.108173   \n",
       "36465   0.773222 -0.794762   0.204489  0.933794 -0.113091  0.791719 -0.112355   \n",
       "272125  0.307806 -0.003153  -0.096640  1.206507  0.712596 -0.562461  0.266743   \n",
       "...          ...       ...        ...       ...       ...       ...       ...   \n",
       "135455 -0.608117 -0.369356   0.707782  1.125482  1.127902 -0.227401  0.892349   \n",
       "207656  2.959525 -3.739845   0.883653  0.501227 -0.108604  0.614238 -1.737303   \n",
       "7128   -0.830021  2.617175  -0.859247  0.223362 -2.318932  1.094301 -0.394860   \n",
       "85021   0.876678 -1.770063   0.145927  0.503492 -0.077784 -0.398707  0.286640   \n",
       "244020 -0.451447  0.877276  -0.061599 -0.624891  1.058421 -0.386051  0.423541   \n",
       "227409 -0.441166  0.308149   0.415313 -0.332162  2.347661  3.109859  2.110627   \n",
       "158609 -0.581818  2.913180  -2.849454  1.578282 -1.557056  2.013202 -0.525056   \n",
       "4324   -0.657957  0.252333   0.376351  2.187327 -2.422087  1.457081  1.503971   \n",
       "94593   3.059092  7.932015  11.504768  3.027109 -0.790496 -5.807267 -1.715942   \n",
       "131252 -0.420515  0.509898  -0.658128  1.558169  0.400554 -1.062202 -0.232479   \n",
       "277638  0.024682  0.480774   0.055854 -0.395827  0.558267  0.273114  0.355708   \n",
       "94566   0.456917  1.252484  -1.727373 -1.148795  0.604115 -0.568552 -0.284449   \n",
       "92054   0.440084 -0.654707   0.265555 -0.312918 -0.229777  0.642269 -0.228781   \n",
       "207765  0.563305 -0.190037  -0.550618 -1.199048 -0.085831  0.662463 -0.225518   \n",
       "212718 -0.201078 -0.493907  -1.496852  0.152378 -0.007643 -0.106499  0.261872   \n",
       "123699  0.566406 -0.533251  -0.135136  0.207330  0.102886  0.325150  0.748937   \n",
       "137465 -0.027607 -0.427559   0.428315 -0.538932  1.055469 -0.456870 -0.266984   \n",
       "13082   0.356693  1.261224  -0.691234  1.681815 -2.699028  1.888715 -0.443199   \n",
       "156926  0.214351  1.396427  -0.825298  1.756240 -1.928820  1.344954 -0.012439   \n",
       "1980    0.595773  0.431263   0.452278  1.074479  0.418736  0.067797  0.107557   \n",
       "122730 -0.525648  2.014092  -1.183261 -0.343501  0.584883 -0.107596 -0.826271   \n",
       "240464 -2.298054 -0.192430  -0.545419 -2.438445  1.349995  1.812869 -0.045942   \n",
       "88276  -0.217754  0.822806  -0.158992 -0.714834 -0.512915  0.325060 -0.179737   \n",
       "155699 -0.774197  1.721025  -1.218368  1.572765 -2.292445  0.174798  1.807892   \n",
       "33533  -0.104923 -0.685428   0.893060  0.597537 -0.479812  0.845259  1.156886   \n",
       "58285   0.170513  0.691389  -0.449574  1.071870  1.278149 -0.050089 -0.546662   \n",
       "265262  2.097638  2.472133   3.767056 -0.597262 -1.023377 -0.554407 -1.128829   \n",
       "233388 -1.342271 -1.289308   1.730926  0.269504 -0.422405 -0.269749 -0.153121   \n",
       "234115 -0.574562  1.399953  -0.196094 -1.482124  0.676975 -0.395755  0.198614   \n",
       "265384 -0.205435  0.460792   0.220465  0.035037  1.012753  0.114333  0.572332   \n",
       "\n",
       "             V17       V18  \n",
       "42354  -0.211816 -0.339933  \n",
       "56373   1.178149 -2.170078  \n",
       "272756 -0.643692 -0.359400  \n",
       "260079  0.942909 -0.445431  \n",
       "15737  -0.707402  0.175523  \n",
       "88772   1.326707 -1.760232  \n",
       "99436  -0.152602  1.164815  \n",
       "82024  -0.044907 -0.321896  \n",
       "58104  -0.315291 -0.212735  \n",
       "89587  -0.085695  0.329359  \n",
       "10766   0.377101  1.327797  \n",
       "27238  -0.972933  0.375396  \n",
       "65743  -0.005300  0.997826  \n",
       "6347    0.391876  0.339703  \n",
       "230542  0.619429 -2.169315  \n",
       "265787  0.650049  0.691744  \n",
       "98958   0.081742 -0.930799  \n",
       "246893 -1.749002 -1.089159  \n",
       "143889 -0.474138  0.438055  \n",
       "45570   0.213169 -0.013039  \n",
       "117614 -0.979744 -0.324681  \n",
       "248155  0.539479 -1.237613  \n",
       "24264  -0.252130  1.552981  \n",
       "235451 -0.609655 -0.958628  \n",
       "176971 -0.879892  0.524039  \n",
       "109380  0.030735 -0.444438  \n",
       "22878  -0.036467 -0.294026  \n",
       "190250  0.656616 -1.264384  \n",
       "36465  -0.208918  0.143081  \n",
       "272125  0.376194  0.420099  \n",
       "...          ...       ...  \n",
       "135455 -0.785139  0.423411  \n",
       "207656  1.351479  0.423218  \n",
       "7128    1.207625 -0.697125  \n",
       "85021   0.454530 -2.289019  \n",
       "244020 -0.629564 -0.533665  \n",
       "227409  1.338508 -1.191403  \n",
       "158609  0.384045  0.322529  \n",
       "4324    0.577168 -0.700867  \n",
       "94593  -2.380449 -0.531228  \n",
       "131252  1.519110 -0.223012  \n",
       "277638 -0.534989 -0.940516  \n",
       "94566  -0.430975  0.569240  \n",
       "92054  -0.644320  0.327579  \n",
       "207765 -0.370153  0.331493  \n",
       "212718  0.607587  0.613561  \n",
       "123699 -1.052235  0.559240  \n",
       "137465  0.044720 -1.153316  \n",
       "13082   0.933507  0.058208  \n",
       "156926 -0.060232  1.045515  \n",
       "1980   -0.442812 -0.094131  \n",
       "122730  0.295998 -0.045233  \n",
       "240464  1.682700 -0.394446  \n",
       "88276   0.236343 -0.569694  \n",
       "155699  0.469607  2.054508  \n",
       "33533  -0.908811  0.365414  \n",
       "58285   0.397398 -0.500981  \n",
       "265262 -0.753439 -0.585999  \n",
       "233388  0.079644  0.645020  \n",
       "234115 -0.762648  0.257532  \n",
       "265384 -1.104130  0.391019  \n",
       "\n",
       "[170589 rows x 15 columns]"
      ]
     },
     "execution_count": 21,
     "metadata": {},
     "output_type": "execute_result"
    }
   ],
   "source": [
    "Xtrain"
   ]
  },
  {
   "cell_type": "code",
   "execution_count": 22,
   "metadata": {},
   "outputs": [
    {
     "data": {
      "text/html": [
       "<div>\n",
       "<style>\n",
       "    .dataframe thead tr:only-child th {\n",
       "        text-align: right;\n",
       "    }\n",
       "\n",
       "    .dataframe thead th {\n",
       "        text-align: left;\n",
       "    }\n",
       "\n",
       "    .dataframe tbody tr th {\n",
       "        vertical-align: top;\n",
       "    }\n",
       "</style>\n",
       "<table border=\"1\" class=\"dataframe\">\n",
       "  <thead>\n",
       "    <tr style=\"text-align: right;\">\n",
       "      <th></th>\n",
       "      <th>Class</th>\n",
       "    </tr>\n",
       "  </thead>\n",
       "  <tbody>\n",
       "    <tr>\n",
       "      <th>42354</th>\n",
       "      <td>0</td>\n",
       "    </tr>\n",
       "    <tr>\n",
       "      <th>56373</th>\n",
       "      <td>0</td>\n",
       "    </tr>\n",
       "    <tr>\n",
       "      <th>272756</th>\n",
       "      <td>0</td>\n",
       "    </tr>\n",
       "    <tr>\n",
       "      <th>260079</th>\n",
       "      <td>0</td>\n",
       "    </tr>\n",
       "    <tr>\n",
       "      <th>15737</th>\n",
       "      <td>0</td>\n",
       "    </tr>\n",
       "    <tr>\n",
       "      <th>88772</th>\n",
       "      <td>0</td>\n",
       "    </tr>\n",
       "    <tr>\n",
       "      <th>99436</th>\n",
       "      <td>0</td>\n",
       "    </tr>\n",
       "    <tr>\n",
       "      <th>82024</th>\n",
       "      <td>0</td>\n",
       "    </tr>\n",
       "    <tr>\n",
       "      <th>58104</th>\n",
       "      <td>0</td>\n",
       "    </tr>\n",
       "    <tr>\n",
       "      <th>89587</th>\n",
       "      <td>0</td>\n",
       "    </tr>\n",
       "    <tr>\n",
       "      <th>10766</th>\n",
       "      <td>0</td>\n",
       "    </tr>\n",
       "    <tr>\n",
       "      <th>27238</th>\n",
       "      <td>0</td>\n",
       "    </tr>\n",
       "    <tr>\n",
       "      <th>65743</th>\n",
       "      <td>0</td>\n",
       "    </tr>\n",
       "    <tr>\n",
       "      <th>6347</th>\n",
       "      <td>0</td>\n",
       "    </tr>\n",
       "    <tr>\n",
       "      <th>230542</th>\n",
       "      <td>0</td>\n",
       "    </tr>\n",
       "    <tr>\n",
       "      <th>265787</th>\n",
       "      <td>0</td>\n",
       "    </tr>\n",
       "    <tr>\n",
       "      <th>98958</th>\n",
       "      <td>0</td>\n",
       "    </tr>\n",
       "    <tr>\n",
       "      <th>246893</th>\n",
       "      <td>0</td>\n",
       "    </tr>\n",
       "    <tr>\n",
       "      <th>143889</th>\n",
       "      <td>0</td>\n",
       "    </tr>\n",
       "    <tr>\n",
       "      <th>45570</th>\n",
       "      <td>0</td>\n",
       "    </tr>\n",
       "    <tr>\n",
       "      <th>117614</th>\n",
       "      <td>0</td>\n",
       "    </tr>\n",
       "    <tr>\n",
       "      <th>248155</th>\n",
       "      <td>0</td>\n",
       "    </tr>\n",
       "    <tr>\n",
       "      <th>24264</th>\n",
       "      <td>0</td>\n",
       "    </tr>\n",
       "    <tr>\n",
       "      <th>235451</th>\n",
       "      <td>0</td>\n",
       "    </tr>\n",
       "    <tr>\n",
       "      <th>176971</th>\n",
       "      <td>0</td>\n",
       "    </tr>\n",
       "    <tr>\n",
       "      <th>109380</th>\n",
       "      <td>0</td>\n",
       "    </tr>\n",
       "    <tr>\n",
       "      <th>22878</th>\n",
       "      <td>0</td>\n",
       "    </tr>\n",
       "    <tr>\n",
       "      <th>190250</th>\n",
       "      <td>0</td>\n",
       "    </tr>\n",
       "    <tr>\n",
       "      <th>36465</th>\n",
       "      <td>0</td>\n",
       "    </tr>\n",
       "    <tr>\n",
       "      <th>272125</th>\n",
       "      <td>0</td>\n",
       "    </tr>\n",
       "    <tr>\n",
       "      <th>...</th>\n",
       "      <td>...</td>\n",
       "    </tr>\n",
       "    <tr>\n",
       "      <th>135455</th>\n",
       "      <td>0</td>\n",
       "    </tr>\n",
       "    <tr>\n",
       "      <th>207656</th>\n",
       "      <td>0</td>\n",
       "    </tr>\n",
       "    <tr>\n",
       "      <th>7128</th>\n",
       "      <td>0</td>\n",
       "    </tr>\n",
       "    <tr>\n",
       "      <th>85021</th>\n",
       "      <td>0</td>\n",
       "    </tr>\n",
       "    <tr>\n",
       "      <th>244020</th>\n",
       "      <td>0</td>\n",
       "    </tr>\n",
       "    <tr>\n",
       "      <th>227409</th>\n",
       "      <td>0</td>\n",
       "    </tr>\n",
       "    <tr>\n",
       "      <th>158609</th>\n",
       "      <td>0</td>\n",
       "    </tr>\n",
       "    <tr>\n",
       "      <th>4324</th>\n",
       "      <td>0</td>\n",
       "    </tr>\n",
       "    <tr>\n",
       "      <th>94593</th>\n",
       "      <td>0</td>\n",
       "    </tr>\n",
       "    <tr>\n",
       "      <th>131252</th>\n",
       "      <td>0</td>\n",
       "    </tr>\n",
       "    <tr>\n",
       "      <th>277638</th>\n",
       "      <td>0</td>\n",
       "    </tr>\n",
       "    <tr>\n",
       "      <th>94566</th>\n",
       "      <td>0</td>\n",
       "    </tr>\n",
       "    <tr>\n",
       "      <th>92054</th>\n",
       "      <td>0</td>\n",
       "    </tr>\n",
       "    <tr>\n",
       "      <th>207765</th>\n",
       "      <td>0</td>\n",
       "    </tr>\n",
       "    <tr>\n",
       "      <th>212718</th>\n",
       "      <td>0</td>\n",
       "    </tr>\n",
       "    <tr>\n",
       "      <th>123699</th>\n",
       "      <td>0</td>\n",
       "    </tr>\n",
       "    <tr>\n",
       "      <th>137465</th>\n",
       "      <td>0</td>\n",
       "    </tr>\n",
       "    <tr>\n",
       "      <th>13082</th>\n",
       "      <td>0</td>\n",
       "    </tr>\n",
       "    <tr>\n",
       "      <th>156926</th>\n",
       "      <td>0</td>\n",
       "    </tr>\n",
       "    <tr>\n",
       "      <th>1980</th>\n",
       "      <td>0</td>\n",
       "    </tr>\n",
       "    <tr>\n",
       "      <th>122730</th>\n",
       "      <td>0</td>\n",
       "    </tr>\n",
       "    <tr>\n",
       "      <th>240464</th>\n",
       "      <td>0</td>\n",
       "    </tr>\n",
       "    <tr>\n",
       "      <th>88276</th>\n",
       "      <td>0</td>\n",
       "    </tr>\n",
       "    <tr>\n",
       "      <th>155699</th>\n",
       "      <td>0</td>\n",
       "    </tr>\n",
       "    <tr>\n",
       "      <th>33533</th>\n",
       "      <td>0</td>\n",
       "    </tr>\n",
       "    <tr>\n",
       "      <th>58285</th>\n",
       "      <td>0</td>\n",
       "    </tr>\n",
       "    <tr>\n",
       "      <th>265262</th>\n",
       "      <td>0</td>\n",
       "    </tr>\n",
       "    <tr>\n",
       "      <th>233388</th>\n",
       "      <td>0</td>\n",
       "    </tr>\n",
       "    <tr>\n",
       "      <th>234115</th>\n",
       "      <td>0</td>\n",
       "    </tr>\n",
       "    <tr>\n",
       "      <th>265384</th>\n",
       "      <td>0</td>\n",
       "    </tr>\n",
       "  </tbody>\n",
       "</table>\n",
       "<p>170589 rows × 1 columns</p>\n",
       "</div>"
      ],
      "text/plain": [
       "        Class\n",
       "42354       0\n",
       "56373       0\n",
       "272756      0\n",
       "260079      0\n",
       "15737       0\n",
       "88772       0\n",
       "99436       0\n",
       "82024       0\n",
       "58104       0\n",
       "89587       0\n",
       "10766       0\n",
       "27238       0\n",
       "65743       0\n",
       "6347        0\n",
       "230542      0\n",
       "265787      0\n",
       "98958       0\n",
       "246893      0\n",
       "143889      0\n",
       "45570       0\n",
       "117614      0\n",
       "248155      0\n",
       "24264       0\n",
       "235451      0\n",
       "176971      0\n",
       "109380      0\n",
       "22878       0\n",
       "190250      0\n",
       "36465       0\n",
       "272125      0\n",
       "...       ...\n",
       "135455      0\n",
       "207656      0\n",
       "7128        0\n",
       "85021       0\n",
       "244020      0\n",
       "227409      0\n",
       "158609      0\n",
       "4324        0\n",
       "94593       0\n",
       "131252      0\n",
       "277638      0\n",
       "94566       0\n",
       "92054       0\n",
       "207765      0\n",
       "212718      0\n",
       "123699      0\n",
       "137465      0\n",
       "13082       0\n",
       "156926      0\n",
       "1980        0\n",
       "122730      0\n",
       "240464      0\n",
       "88276       0\n",
       "155699      0\n",
       "33533       0\n",
       "58285       0\n",
       "265262      0\n",
       "233388      0\n",
       "234115      0\n",
       "265384      0\n",
       "\n",
       "[170589 rows x 1 columns]"
      ]
     },
     "execution_count": 22,
     "metadata": {},
     "output_type": "execute_result"
    }
   ],
   "source": [
    "Ytrain"
   ]
  },
  {
   "cell_type": "code",
   "execution_count": 23,
   "metadata": {},
   "outputs": [
    {
     "data": {
      "text/plain": [
       "57109"
      ]
     },
     "execution_count": 23,
     "metadata": {},
     "output_type": "execute_result"
    }
   ],
   "source": [
    "cv.shape[0]"
   ]
  },
  {
   "cell_type": "code",
   "execution_count": 24,
   "metadata": {},
   "outputs": [
    {
     "data": {
      "text/plain": [
       "57109"
      ]
     },
     "execution_count": 24,
     "metadata": {},
     "output_type": "execute_result"
    }
   ],
   "source": [
    "test.shape[0]"
   ]
  },
  {
   "cell_type": "markdown",
   "metadata": {},
   "source": [
    "### Multi-variate gaussian anomaly detection implementation"
   ]
  },
  {
   "cell_type": "code",
   "execution_count": 25,
   "metadata": {
    "collapsed": true
   },
   "outputs": [],
   "source": [
    "\n",
    "def feature_normalize(dataset):\n",
    "    mu = np.mean(dataset,axis=0)\n",
    "    sigma = np.std(dataset,axis=0)\n",
    "    return (dataset - mu)/sigma\n",
    "\n",
    "def estimateGaussian(dataset):\n",
    "    mu = np.mean(dataset, axis=0)\n",
    "    sigma = np.cov(dataset.T)\n",
    "    return mu, sigma\n",
    "    \n",
    "def multivariateGaussian(dataset,mu,sigma):\n",
    "    p= multivariate_normal(mean=mu, cov=sigma)\n",
    "    return p.pdf(dataset)\n",
    "\n",
    "\n",
    "def selectThresholdByCV(probs,gt):\n",
    "    best_epsilon = 0\n",
    "    best_f1 = 0\n",
    "    f = 0\n",
    "    stepsize = (max(probs) - min(probs)) / 1000;\n",
    "    epsilons = np.arange(min(probs),max(probs),stepsize)\n",
    "    for epsilon in np.nditer(epsilons):\n",
    "        predictions = (probs < epsilon) \n",
    "        f = f1_score(gt, predictions,average='binary')\n",
    "        if f > best_f1:\n",
    "            best_f1 = f\n",
    "            best_epsilon = epsilon\n",
    "    final_best_predictions=(probs<best_epsilon)        \n",
    "    confusion_matr=confusion_matrix(gt, final_best_predictions)  \n",
    "    precision=precision_score(gt, final_best_predictions, average=\"macro\")\n",
    "    recall=recall_score(gt, final_best_predictions, average=\"macro\")\n",
    "    return best_f1, best_epsilon,confusion_matr,precision,recall"
   ]
  },
  {
   "cell_type": "code",
   "execution_count": 26,
   "metadata": {
    "collapsed": true
   },
   "outputs": [],
   "source": [
    "Xtrain=feature_normalize(Xtrain)\n",
    "XCV=feature_normalize(XCV)\n",
    "Xtest=feature_normalize(Xtest)"
   ]
  },
  {
   "cell_type": "code",
   "execution_count": 27,
   "metadata": {
    "collapsed": true
   },
   "outputs": [],
   "source": [
    "mu, sigma = estimateGaussian(Xtrain)"
   ]
  },
  {
   "cell_type": "code",
   "execution_count": 28,
   "metadata": {
    "collapsed": true
   },
   "outputs": [],
   "source": [
    "p = multivariateGaussian(Xtrain,mu,sigma)\n",
    "p_cv = multivariateGaussian(XCV,mu,sigma)"
   ]
  },
  {
   "cell_type": "code",
   "execution_count": 29,
   "metadata": {},
   "outputs": [
    {
     "data": {
      "text/plain": [
       "9.9250028426854184e-07"
      ]
     },
     "execution_count": 29,
     "metadata": {},
     "output_type": "execute_result"
    }
   ],
   "source": [
    "max(p_cv)"
   ]
  },
  {
   "cell_type": "code",
   "execution_count": 30,
   "metadata": {},
   "outputs": [
    {
     "data": {
      "text/plain": [
       "0.0"
      ]
     },
     "execution_count": 30,
     "metadata": {},
     "output_type": "execute_result"
    }
   ],
   "source": [
    "min(p_cv)"
   ]
  },
  {
   "cell_type": "code",
   "execution_count": 31,
   "metadata": {
    "collapsed": true
   },
   "outputs": [],
   "source": [
    "p_cv[p_cv==0]=min(p_cv[p_cv>0])"
   ]
  },
  {
   "cell_type": "code",
   "execution_count": 32,
   "metadata": {
    "collapsed": true
   },
   "outputs": [],
   "source": [
    "p_cv=np.log(p_cv)"
   ]
  },
  {
   "cell_type": "code",
   "execution_count": 33,
   "metadata": {},
   "outputs": [
    {
     "data": {
      "text/plain": [
       "-13.82303853796844"
      ]
     },
     "execution_count": 33,
     "metadata": {},
     "output_type": "execute_result"
    }
   ],
   "source": [
    "max(p_cv)"
   ]
  },
  {
   "cell_type": "code",
   "execution_count": 34,
   "metadata": {},
   "outputs": [
    {
     "data": {
      "text/plain": [
       "-738.80528231821199"
      ]
     },
     "execution_count": 34,
     "metadata": {},
     "output_type": "execute_result"
    }
   ],
   "source": [
    "min(p_cv)"
   ]
  },
  {
   "cell_type": "code",
   "execution_count": 35,
   "metadata": {},
   "outputs": [
    {
     "name": "stderr",
     "output_type": "stream",
     "text": [
      "C:\\Users\\Karthik\\Anaconda3\\lib\\site-packages\\sklearn\\metrics\\classification.py:1135: UndefinedMetricWarning: F-score is ill-defined and being set to 0.0 due to no predicted samples.\n",
      "  'precision', 'predicted', average, warn_for)\n"
     ]
    },
    {
     "name": "stdout",
     "output_type": "stream",
     "text": [
      "Best Epsilon cut off: -208.84326211486223\n",
      "F1 score: 0.752066115702\n",
      "confusion matrix:\n",
      " [[56807    56]\n",
      " [   64   182]]\n",
      "precision: 0.881790264241\n",
      "recall: 0.869426287601\n"
     ]
    }
   ],
   "source": [
    "fscore, ep, confusion_matr,precision,recall = selectThresholdByCV(p_cv,YCV)\n",
    "print(\"Best Epsilon cut off:\",ep)\n",
    "print(\"F1 score:\",fscore)\n",
    "print(\"confusion matrix:\\n\",confusion_matr)\n",
    "print(\"precision:\",precision)\n",
    "print(\"recall:\",recall)"
   ]
  },
  {
   "cell_type": "code",
   "execution_count": 36,
   "metadata": {
    "collapsed": true
   },
   "outputs": [],
   "source": [
    "ptest = multivariateGaussian(Xtest, mu, sigma)"
   ]
  },
  {
   "cell_type": "code",
   "execution_count": 37,
   "metadata": {
    "collapsed": true
   },
   "outputs": [],
   "source": [
    "ptest[ptest==0]=min(ptest[ptest>0])\n",
    "ptest=np.log(ptest)"
   ]
  },
  {
   "cell_type": "code",
   "execution_count": 38,
   "metadata": {
    "collapsed": true
   },
   "outputs": [],
   "source": [
    "prediction_test=(ptest<ep).astype(int)\n",
    "#ytest_prediction = np.squeeze(ytest.values).astype(int)"
   ]
  },
  {
   "cell_type": "code",
   "execution_count": 39,
   "metadata": {},
   "outputs": [
    {
     "name": "stdout",
     "output_type": "stream",
     "text": [
      "F1 Score: 0.8\n",
      "Precision: 0.914354897156\n",
      "Recall 0.885835932291\n"
     ]
    }
   ],
   "source": [
    "print(\"F1 Score:\",f1_score(Ytest,prediction_test,average='binary'))\n",
    "print(\"Precision:\",precision_score(Ytest,prediction_test, average=\"macro\"))\n",
    "print(\"Recall\",recall_score(Ytest,prediction_test, average=\"macro\"))  "
   ]
  },
  {
   "cell_type": "code",
   "execution_count": 40,
   "metadata": {},
   "outputs": [
    {
     "data": {
      "text/plain": [
       "array([[56824,    39],\n",
       "       [   56,   190]], dtype=int64)"
      ]
     },
     "execution_count": 40,
     "metadata": {},
     "output_type": "execute_result"
    }
   ],
   "source": [
    "confusion_matrix(Ytest,prediction_test)"
   ]
  },
  {
   "cell_type": "markdown",
   "metadata": {},
   "source": [
    "# Method 2 - One-Class SVM for Anomaly Detection"
   ]
  },
  {
   "cell_type": "code",
   "execution_count": 61,
   "metadata": {
    "collapsed": true
   },
   "outputs": [],
   "source": [
    "df_svm.loc[df_svm['Class'] == 0, \"Temp_class\"] = 1  \n",
    "df_svm.loc[df_svm['Class'] != 0, \"Temp_class\"] = -1"
   ]
  },
  {
   "cell_type": "code",
   "execution_count": 62,
   "metadata": {
    "collapsed": true
   },
   "outputs": [],
   "source": [
    "target = df_svm['Temp_class']"
   ]
  },
  {
   "cell_type": "code",
   "execution_count": 63,
   "metadata": {},
   "outputs": [
    {
     "name": "stdout",
     "output_type": "stream",
     "text": [
      "outliers.shape (492,)\n",
      "outlier fraction 0.001727485630620034\n"
     ]
    }
   ],
   "source": [
    "outliers = target[target == -1]  \n",
    "print(\"outliers.shape\", outliers.shape)  \n",
    "print(\"outlier fraction\", outliers.shape[0]/target.shape[0])"
   ]
  },
  {
   "cell_type": "code",
   "execution_count": 64,
   "metadata": {
    "collapsed": true
   },
   "outputs": [],
   "source": [
    "df_svm.drop([\"Class\", \"Temp_class\"], axis=1, inplace=True)"
   ]
  },
  {
   "cell_type": "code",
   "execution_count": 65,
   "metadata": {},
   "outputs": [
    {
     "data": {
      "text/plain": [
       "(284807, 15)"
      ]
     },
     "execution_count": 65,
     "metadata": {},
     "output_type": "execute_result"
    }
   ],
   "source": [
    "df_svm.shape"
   ]
  },
  {
   "cell_type": "code",
   "execution_count": 66,
   "metadata": {},
   "outputs": [
    {
     "name": "stderr",
     "output_type": "stream",
     "text": [
      "C:\\Users\\Karthik\\Anaconda3\\lib\\site-packages\\sklearn\\model_selection\\_split.py:2026: FutureWarning: From version 0.21, test_size will always complement train_size unless both are specified.\n",
      "  FutureWarning)\n"
     ]
    },
    {
     "data": {
      "text/plain": [
       "(227845, 15)"
      ]
     },
     "execution_count": 66,
     "metadata": {},
     "output_type": "execute_result"
    }
   ],
   "source": [
    "#try tuning the train_size,gamma with a function and try bootstrapping to give a CI \n",
    "train_data, test_data, train_target, test_target = train_test_split(df_svm, target, train_size = 0.8)  \n",
    "train_data.shape  "
   ]
  },
  {
   "cell_type": "code",
   "execution_count": 67,
   "metadata": {},
   "outputs": [
    {
     "name": "stdout",
     "output_type": "stream",
     "text": [
      "nu 0.001727485630620034\n"
     ]
    }
   ],
   "source": [
    "nu = outliers.shape[0] / target.shape[0]  \n",
    "print(\"nu\", nu)"
   ]
  },
  {
   "cell_type": "code",
   "execution_count": 68,
   "metadata": {
    "collapsed": true
   },
   "outputs": [],
   "source": [
    "def SVM_model(nu_k,data):\n",
    "    clf = svm.OneClassSVM(nu=nu_k, kernel=\"rbf\", gamma='auto') #gamma can be tuned to find the optimum [gamma determines the rigidity of the fit]\n",
    "    return(clf.fit(data))\n",
    "\n",
    "def scores(clf,t_data,t_target):\n",
    "    preds = clf.predict(t_data)  \n",
    "    targs = t_target\n",
    "    print(\"accuracy: \", metrics.accuracy_score(targs, preds))  \n",
    "    print(\"precision: \", metrics.precision_score(targs, preds))  \n",
    "    print(\"recall: \", metrics.recall_score(targs, preds))  \n",
    "    print(\"f1: \", metrics.f1_score(targs, preds))  \n",
    "    print(\"area under curve (auc): \", metrics.roc_auc_score(targs, preds))  "
   ]
  },
  {
   "cell_type": "markdown",
   "metadata": {},
   "source": [
    "-   <b>when nu is known [when the data is labelled]:</b>"
   ]
  },
  {
   "cell_type": "code",
   "execution_count": 69,
   "metadata": {},
   "outputs": [
    {
     "name": "stdout",
     "output_type": "stream",
     "text": [
      "accuracy:  0.993131295398\n",
      "precision:  0.998719426303\n",
      "recall:  0.994394273806\n",
      "f1:  0.99655215716\n",
      "area under curve (auc):  0.6337886156\n"
     ]
    }
   ],
   "source": [
    "clf = SVM_model(nu,train_data) #nu is known if the number of anomolous data in the given data is labelled and known\n",
    "scores(clf,train_data,train_target)"
   ]
  },
  {
   "cell_type": "code",
   "execution_count": 70,
   "metadata": {},
   "outputs": [
    {
     "name": "stdout",
     "output_type": "stream",
     "text": [
      "accuracy:  0.988676661634\n",
      "precision:  0.999254102437\n",
      "recall:  0.989396683606\n",
      "f1:  0.99430096221\n",
      "area under curve (auc):  0.76889189019\n"
     ]
    }
   ],
   "source": [
    "scores(clf,test_data,test_target)"
   ]
  },
  {
   "cell_type": "markdown",
   "metadata": {},
   "source": [
    "-   <b>when nu in unkown (manual ratio of anomolous data is assumed based on previous knowledge):</b>"
   ]
  },
  {
   "cell_type": "code",
   "execution_count": 71,
   "metadata": {},
   "outputs": [
    {
     "name": "stdout",
     "output_type": "stream",
     "text": [
      "accuracy:  0.95149333977\n",
      "precision:  0.999796749845\n",
      "recall:  0.951601698865\n",
      "f1:  0.97510407093\n",
      "area under curve (auc):  0.920663004821\n"
     ]
    }
   ],
   "source": [
    "clf = SVM_model(0.05,train_data) #nu is known if the number of anomolous data in the given data is labelled and known\n",
    "scores(clf,train_data,train_target)"
   ]
  },
  {
   "cell_type": "code",
   "execution_count": 72,
   "metadata": {},
   "outputs": [
    {
     "name": "stdout",
     "output_type": "stream",
     "text": [
      "accuracy:  0.951335978372\n",
      "precision:  0.999759806367\n",
      "recall:  0.951484991823\n",
      "f1:  0.975025227043\n",
      "area under curve (auc):  0.905850022793\n"
     ]
    }
   ],
   "source": [
    "scores(clf,test_data,test_target)"
   ]
  },
  {
   "cell_type": "markdown",
   "metadata": {},
   "source": [
    "### It can be clearly seen that, when the ratio of anomolous data is known, the model performs well."
   ]
  },
  {
   "cell_type": "markdown",
   "metadata": {},
   "source": [
    "#### This SVM model can be used on the real time data which were not used in the training of the model"
   ]
  },
  {
   "cell_type": "code",
   "execution_count": null,
   "metadata": {
    "collapsed": true
   },
   "outputs": [],
   "source": [
    "-----------------------------------------------------------------------------------------------------------------------------"
   ]
  },
  {
   "cell_type": "markdown",
   "metadata": {},
   "source": [
    "# Method 3- Undersampling and using logistic Regression"
   ]
  },
  {
   "cell_type": "code",
   "execution_count": 41,
   "metadata": {},
   "outputs": [
    {
     "name": "stdout",
     "output_type": "stream",
     "text": [
      "Percentage normal transactions:  0.5\n",
      "Percentage fraud transactions:  0.5\n",
      "Total number of transactions in resampled data:  984\n"
     ]
    },
    {
     "name": "stderr",
     "output_type": "stream",
     "text": [
      "C:\\Users\\Karthik\\Anaconda3\\lib\\site-packages\\ipykernel_launcher.py:18: DeprecationWarning: \n",
      ".ix is deprecated. Please use\n",
      ".loc for label based indexing or\n",
      ".iloc for positional indexing\n",
      "\n",
      "See the documentation here:\n",
      "http://pandas.pydata.org/pandas-docs/stable/indexing.html#ix-indexer-is-deprecated\n"
     ]
    }
   ],
   "source": [
    "# Number of data points in the minority class\n",
    "number_records_fraud = len(df1[df1.Class == 1])\n",
    "fraud_indices = np.array(df1[df1.Class == 1].index)\n",
    "\n",
    "# Picking the indices of the normal classes\n",
    "normal_indices = df1[df1.Class == 0].index\n",
    "\n",
    "# Out of the indices we picked, randomly select \"x\" number (number_records_fraud)\n",
    "random_normal_indices = np.random.choice(normal_indices, number_records_fraud, replace = False)\n",
    "random_normal_indices = np.array(random_normal_indices)\n",
    "\n",
    "# Appending the 2 indices\n",
    "under_sample_indices = np.concatenate([fraud_indices,random_normal_indices])\n",
    "\n",
    "# Under sample dataset\n",
    "under_sample_data = df1.iloc[under_sample_indices,:]\n",
    "\n",
    "X_undersample = under_sample_data.ix[:, under_sample_data.columns != 'Class']\n",
    "y_undersample = under_sample_data.ix[:, under_sample_data.columns == 'Class']\n",
    "\n",
    "# Showing ratio\n",
    "print(\"Percentage normal transactions: \", len(under_sample_data[under_sample_data.Class == 0])/len(under_sample_data))\n",
    "print(\"Percentage fraud transactions: \", len(under_sample_data[under_sample_data.Class == 1])/len(under_sample_data))\n",
    "print(\"Total number of transactions in resampled data: \", len(under_sample_data))"
   ]
  },
  {
   "cell_type": "code",
   "execution_count": 42,
   "metadata": {},
   "outputs": [
    {
     "name": "stderr",
     "output_type": "stream",
     "text": [
      "C:\\Users\\Karthik\\Anaconda3\\lib\\site-packages\\ipykernel_launcher.py:1: DeprecationWarning: \n",
      ".ix is deprecated. Please use\n",
      ".loc for label based indexing or\n",
      ".iloc for positional indexing\n",
      "\n",
      "See the documentation here:\n",
      "http://pandas.pydata.org/pandas-docs/stable/indexing.html#ix-indexer-is-deprecated\n",
      "  \"\"\"Entry point for launching an IPython kernel.\n"
     ]
    }
   ],
   "source": [
    "X = df1.ix[:, df1.columns != 'Class']\n",
    "y = df1.ix[:, df1.columns == 'Class']"
   ]
  },
  {
   "cell_type": "code",
   "execution_count": 43,
   "metadata": {},
   "outputs": [
    {
     "name": "stdout",
     "output_type": "stream",
     "text": [
      "\n",
      "Number transactions train dataset:  738\n",
      "Number transactions test dataset:  246\n",
      "Total number of transactions:  984\n"
     ]
    }
   ],
   "source": [
    "X_train_undersample, X_test_undersample, y_train_undersample, y_test_undersample = train_test_split(X_undersample,y_undersample,test_size = 0.25,random_state = 0)\n",
    "print(\"\")\n",
    "print(\"Number transactions train dataset: \", len(X_train_undersample))\n",
    "print(\"Number transactions test dataset: \", len(X_test_undersample))\n",
    "print(\"Total number of transactions: \", len(X_train_undersample)+len(X_test_undersample))"
   ]
  },
  {
   "cell_type": "code",
   "execution_count": 44,
   "metadata": {},
   "outputs": [
    {
     "name": "stderr",
     "output_type": "stream",
     "text": [
      "C:\\Users\\Karthik\\Anaconda3\\lib\\site-packages\\sklearn\\utils\\validation.py:578: DataConversionWarning: A column-vector y was passed when a 1d array was expected. Please change the shape of y to (n_samples, ), for example using ravel().\n",
      "  y = column_or_1d(y, warn=True)\n"
     ]
    }
   ],
   "source": [
    "logreg = LogisticRegression()\n",
    "logreg.fit(X_train_undersample,y_train_undersample)\n",
    "preds = logreg.predict(X_test_undersample)\n",
    "pred_probs=logreg.predict_proba(X_test_undersample)[:,1]"
   ]
  },
  {
   "cell_type": "code",
   "execution_count": 45,
   "metadata": {},
   "outputs": [
    {
     "data": {
      "image/png": "[encoded data removed]",
      "text/plain": [
       "<matplotlib.figure.Figure at 0x28655c9c710>"
      ]
     },
     "metadata": {},
     "output_type": "display_data"
    }
   ],
   "source": [
    "logit_roc_auc = roc_auc_score(y_test_undersample, preds)\n",
    "fpr, tpr, thresholds = roc_curve(y_test_undersample, pred_probs)\n",
    "plt.figure()\n",
    "plt.plot(fpr, tpr, label='Logistic Regression (area = %0.2f)' % logit_roc_auc)\n",
    "plt.plot([0, 1], [0, 1],'r--')\n",
    "plt.xlim([0.0, 1.0])\n",
    "plt.ylim([0.0, 1.05])\n",
    "plt.xlabel('False Positive Rate')\n",
    "plt.ylabel('True Positive Rate')\n",
    "plt.title('Receiver operating characteristic')\n",
    "plt.legend(loc=\"lower right\")\n",
    "plt.savefig('Log_ROC')\n",
    "plt.show()"
   ]
  },
  {
   "cell_type": "code",
   "execution_count": 46,
   "metadata": {},
   "outputs": [
    {
     "name": "stdout",
     "output_type": "stream",
     "text": [
      "accuracy:  0.939024390244\n",
      "precision:  0.948275862069\n",
      "recall:  0.924369747899\n",
      "f1:  0.936170212766\n",
      "area under curve (auc):  0.938562826705\n"
     ]
    }
   ],
   "source": [
    "    print(\"accuracy: \", accuracy_score(y_test_undersample, preds))  \n",
    "    print(\"precision: \", precision_score(y_test_undersample, preds))  \n",
    "    print(\"recall: \", recall_score(y_test_undersample, preds))  \n",
    "    print(\"f1: \", f1_score(y_test_undersample, preds))  \n",
    "    print(\"area under curve (auc): \", roc_auc_score(y_test_undersample, preds))  "
   ]
  },
  {
   "cell_type": "code",
   "execution_count": null,
   "metadata": {
    "collapsed": true
   },
   "outputs": [],
   "source": []
  }
 ],
 "metadata": {
  "kernelspec": {
   "display_name": "Python 3",
   "language": "python",
   "name": "python3"
  },
  "language_info": {
   "codemirror_mode": {
    "name": "ipython",
    "version": 3
   },
   "file_extension": ".py",
   "mimetype": "text/x-python",
   "name": "python",
   "nbconvert_exporter": "python",
   "pygments_lexer": "ipython3",
   "version": "3.6.3"
  }
 },
 "nbformat": 4,
 "nbformat_minor": 2
}
